{
 "cells": [
  {
   "cell_type": "code",
   "execution_count": 1,
   "id": "controlling-creator",
   "metadata": {},
   "outputs": [],
   "source": [
    "import numpy as np\n",
    "import matplotlib as mpl\n",
    "import matplotlib.pyplot as plt\n",
    "import random"
   ]
  },
  {
   "cell_type": "code",
   "execution_count": 2,
   "id": "foreign-selling",
   "metadata": {},
   "outputs": [],
   "source": [
    "from sklearn.datasets import fetch_openml"
   ]
  },
  {
   "cell_type": "code",
   "execution_count": 3,
   "id": "mature-closure",
   "metadata": {},
   "outputs": [],
   "source": [
    "mnist = fetch_openml('mnist_784', version=1, cache=True)"
   ]
  },
  {
   "cell_type": "code",
   "execution_count": 4,
   "id": "illegal-subject",
   "metadata": {},
   "outputs": [],
   "source": [
    "mnist.target = mnist.target.astype(np.int8) # fetch_openml() returns targets as strings"
   ]
  },
  {
   "cell_type": "code",
   "execution_count": 5,
   "id": "governing-discrimination",
   "metadata": {},
   "outputs": [
    {
     "data": {
      "text/plain": [
       "(70000, 784)"
      ]
     },
     "execution_count": 5,
     "metadata": {},
     "output_type": "execute_result"
    }
   ],
   "source": [
    "X, y = mnist[\"data\"], mnist[\"target\"]\n",
    "X.shape"
   ]
  },
  {
   "cell_type": "markdown",
   "id": "virtual-plain",
   "metadata": {},
   "source": [
    "MNIST data from openml is shuffled"
   ]
  },
  {
   "cell_type": "code",
   "execution_count": 6,
   "id": "lasting-father",
   "metadata": {},
   "outputs": [
    {
     "data": {
      "image/png": "[encoded data removed]",
      "text/plain": [
       "<Figure size 432x288 with 1 Axes>"
      ]
     },
     "metadata": {
      "needs_background": "light"
     },
     "output_type": "display_data"
    },
    {
     "name": "stdout",
     "output_type": "stream",
     "text": [
      "labelled as 4\n"
     ]
    }
   ],
   "source": [
    "r=random.randint(0,len(X))\n",
    "some_digit=X[r]\n",
    "some_digit_image = some_digit.reshape(28, 28)\n",
    "plt.imshow(some_digit_image, cmap = mpl.cm.binary,\n",
    "           interpolation=\"nearest\")\n",
    "plt.axis(\"off\")\n",
    "plt.show()\n",
    "some_digit_label=y[r]\n",
    "print('labelled as',some_digit_label)"
   ]
  },
  {
   "cell_type": "code",
   "execution_count": 7,
   "id": "italian-warrior",
   "metadata": {},
   "outputs": [],
   "source": [
    "X_train, X_test, y_train, y_test = X[:56000], X[56000:], y[:56000], y[56000:]"
   ]
  },
  {
   "cell_type": "markdown",
   "id": "impressed-broadcasting",
   "metadata": {},
   "source": [
    "# Multilevel Classifier"
   ]
  },
  {
   "cell_type": "markdown",
   "id": "bridal-member",
   "metadata": {},
   "source": [
    "SGD classifier"
   ]
  },
  {
   "cell_type": "code",
   "execution_count": 8,
   "id": "technological-jackson",
   "metadata": {},
   "outputs": [],
   "source": [
    "from sklearn.linear_model import SGDClassifier\n",
    "sgd_clf = SGDClassifier(max_iter=5, tol=-np.infty, random_state=42)"
   ]
  },
  {
   "cell_type": "code",
   "execution_count": 9,
   "id": "enormous-electricity",
   "metadata": {},
   "outputs": [
    {
     "data": {
      "text/plain": [
       "array([4], dtype=int8)"
      ]
     },
     "execution_count": 9,
     "metadata": {},
     "output_type": "execute_result"
    }
   ],
   "source": [
    "sgd_clf.fit(X_train, y_train)\n",
    "sgd_clf.predict([some_digit])"
   ]
  },
  {
   "cell_type": "code",
   "execution_count": 10,
   "id": "dressed-volume",
   "metadata": {},
   "outputs": [
    {
     "data": {
      "text/plain": [
       "array([[ -348187.52150907,  -740549.59834685,  -273988.72775681,\n",
       "        -1000352.46322577,   196611.96059068,  -410426.8966096 ,\n",
       "         -386969.6270089 ,  -425361.36507027,     1975.82629274,\n",
       "         -270967.61984202]])"
      ]
     },
     "execution_count": 10,
     "metadata": {},
     "output_type": "execute_result"
    }
   ],
   "source": [
    "some_digit_scores = sgd_clf.decision_function([some_digit])\n",
    "some_digit_scores"
   ]
  },
  {
   "cell_type": "code",
   "execution_count": 11,
   "id": "complex-nigeria",
   "metadata": {},
   "outputs": [
    {
     "data": {
      "text/plain": [
       "4"
      ]
     },
     "execution_count": 11,
     "metadata": {},
     "output_type": "execute_result"
    }
   ],
   "source": [
    "np.argmax(some_digit_scores)"
   ]
  },
  {
   "cell_type": "markdown",
   "id": "dental-crisis",
   "metadata": {},
   "source": [
    "Random Forest Classifier"
   ]
  },
  {
   "cell_type": "code",
   "execution_count": 12,
   "id": "conventional-tissue",
   "metadata": {},
   "outputs": [],
   "source": [
    "from sklearn.ensemble import RandomForestClassifier\n",
    "forest_clf = RandomForestClassifier(n_estimators=10, random_state=42)"
   ]
  },
  {
   "cell_type": "code",
   "execution_count": 13,
   "id": "suspected-religious",
   "metadata": {},
   "outputs": [
    {
     "data": {
      "text/plain": [
       "array([4], dtype=int8)"
      ]
     },
     "execution_count": 13,
     "metadata": {},
     "output_type": "execute_result"
    }
   ],
   "source": [
    "forest_clf.fit(X_train, y_train)\n",
    "forest_clf.predict([some_digit])"
   ]
  },
  {
   "cell_type": "code",
   "execution_count": 14,
   "id": "attached-preserve",
   "metadata": {
    "scrolled": true
   },
   "outputs": [
    {
     "data": {
      "text/plain": [
       "array([[0. , 0. , 0.1, 0. , 0.5, 0. , 0. , 0. , 0.3, 0.1]])"
      ]
     },
     "execution_count": 14,
     "metadata": {},
     "output_type": "execute_result"
    }
   ],
   "source": [
    "forest_clf.predict_proba([some_digit])"
   ]
  },
  {
   "cell_type": "markdown",
   "id": "exempt-morrison",
   "metadata": {},
   "source": [
    "## Model Selection"
   ]
  },
  {
   "cell_type": "code",
   "execution_count": 15,
   "id": "mexican-democracy",
   "metadata": {},
   "outputs": [],
   "source": [
    "from sklearn.model_selection import cross_val_predict"
   ]
  },
  {
   "cell_type": "code",
   "execution_count": 16,
   "id": "healthy-boring",
   "metadata": {},
   "outputs": [],
   "source": [
    "from sklearn.metrics import confusion_matrix"
   ]
  },
  {
   "cell_type": "code",
   "execution_count": 17,
   "id": "running-potter",
   "metadata": {},
   "outputs": [],
   "source": [
    "def plot_confusion_matrix(matrix):\n",
    "    fig = plt.figure(figsize=(8,8))\n",
    "    ax = fig.add_subplot(111)\n",
    "    cax = ax.matshow(matrix)\n",
    "    fig.colorbar(cax)"
   ]
  },
  {
   "cell_type": "code",
   "execution_count": 18,
   "id": "posted-presence",
   "metadata": {},
   "outputs": [
    {
     "data": {
      "image/png": "[encoded data removed]",
      "text/plain": [
       "<Figure size 576x576 with 2 Axes>"
      ]
     },
     "metadata": {
      "needs_background": "light"
     },
     "output_type": "display_data"
    }
   ],
   "source": [
    "y_train_pred = cross_val_predict(sgd_clf, X_train, y_train, cv=3)\n",
    "conf_mx_sgd = confusion_matrix(y_train, y_train_pred)\n",
    "plot_confusion_matrix(conf_mx_sgd)"
   ]
  },
  {
   "cell_type": "code",
   "execution_count": 19,
   "id": "handed-palmer",
   "metadata": {
    "scrolled": true
   },
   "outputs": [
    {
     "data": {
      "image/png": "[encoded data removed]",
      "text/plain": [
       "<Figure size 576x576 with 2 Axes>"
      ]
     },
     "metadata": {
      "needs_background": "light"
     },
     "output_type": "display_data"
    }
   ],
   "source": [
    "y_train_pred2 = cross_val_predict(forest_clf, X_train, y_train, cv=3)\n",
    "conf_mx_forest = confusion_matrix(y_train, y_train_pred2)\n",
    "plot_confusion_matrix(conf_mx_forest)"
   ]
  },
  {
   "cell_type": "markdown",
   "id": "detected-substitute",
   "metadata": {},
   "source": [
    "### Random Forest Classifier confusion matrix shows much better recall and precision for all classes 0-9\n",
    "\n",
    "# Prediction on test data"
   ]
  },
  {
   "cell_type": "markdown",
   "id": "typical-marsh",
   "metadata": {},
   "source": [
    "y_test_pred2 = cross_val_predict(forest_clf, X_test, y_test, cv=3)\n",
    "conf_mx_forest = confusion_matrix(y_test, y_test_pred2)\n",
    "plot_confusion_matrix(conf_mx_forest)"
   ]
  },
  {
   "cell_type": "code",
   "execution_count": 20,
   "id": "wireless-skating",
   "metadata": {},
   "outputs": [
    {
     "data": {
      "image/png": "[encoded data removed]",
      "text/plain": [
       "<Figure size 576x576 with 2 Axes>"
      ]
     },
     "metadata": {
      "needs_background": "light"
     },
     "output_type": "display_data"
    }
   ],
   "source": [
    "y_test_pred = cross_val_predict(sgd_clf, X_test, y_test, cv=3)\n",
    "conf_mx_sgd = confusion_matrix(y_test, y_test_pred)\n",
    "plot_confusion_matrix(conf_mx_sgd)"
   ]
  },
  {
   "cell_type": "code",
   "execution_count": 21,
   "id": "postal-gender",
   "metadata": {},
   "outputs": [],
   "source": [
    "forest_clf.fit(X_train, y_train)\n",
    "r2=random.randint(0,len(X_test))\n",
    "some_digit2=X_test[r2]\n",
    "pred_some_digit2=forest_clf.predict([some_digit2])"
   ]
  },
  {
   "cell_type": "code",
   "execution_count": 22,
   "id": "following-ethnic",
   "metadata": {
    "scrolled": true
   },
   "outputs": [
    {
     "data": {
      "image/png": "[encoded data removed]",
      "text/plain": [
       "<Figure size 432x288 with 1 Axes>"
      ]
     },
     "metadata": {
      "needs_background": "light"
     },
     "output_type": "display_data"
    },
    {
     "name": "stdout",
     "output_type": "stream",
     "text": [
      "labelled as 0 our prediction [0]\n"
     ]
    }
   ],
   "source": [
    "some_digit2_image = some_digit2.reshape(28, 28)\n",
    "plt.imshow(some_digit2_image, cmap = mpl.cm.binary,\n",
    "           interpolation=\"nearest\")\n",
    "plt.axis(\"off\")\n",
    "plt.show()\n",
    "some_digit_label=y_test[r2]\n",
    "print('labelled as',some_digit_label, 'our prediction', pred_some_digit2)"
   ]
  },
  {
   "cell_type": "code",
   "execution_count": 23,
   "id": "moderate-greenhouse",
   "metadata": {
    "scrolled": true
   },
   "outputs": [],
   "source": [
    "y_test_pred_forest=forest_clf.predict(X_test)"
   ]
  },
  {
   "cell_type": "code",
   "execution_count": 24,
   "id": "superior-clarity",
   "metadata": {},
   "outputs": [],
   "source": [
    "from sklearn.metrics import precision_score, recall_score"
   ]
  },
  {
   "cell_type": "code",
   "execution_count": 30,
   "id": "jewish-brush",
   "metadata": {},
   "outputs": [
    {
     "data": {
      "text/plain": [
       "(array([0.95621469, 0.9779319 , 0.94129834, 0.91897507, 0.94460432,\n",
       "        0.94146341, 0.9715994 , 0.96059783, 0.94528875, 0.94117647]),\n",
       " array([0.98616169, 0.98852772, 0.95314685, 0.93913659, 0.95421512,\n",
       "        0.92418196, 0.97087379, 0.95347269, 0.91135531, 0.91493924]))"
      ]
     },
     "execution_count": 30,
     "metadata": {},
     "output_type": "execute_result"
    }
   ],
   "source": [
    "precision_score(y_test,y_test_pred_forest, average=None), recall_score(y_test,y_test_pred_forest,average=None)"
   ]
  }
 ],
 "metadata": {
  "kernelspec": {
   "display_name": "Python 3",
   "language": "python",
   "name": "python3"
  },
  "language_info": {
   "codemirror_mode": {
    "name": "ipython",
    "version": 3
   },
   "file_extension": ".py",
   "mimetype": "text/x-python",
   "name": "python",
   "nbconvert_exporter": "python",
   "pygments_lexer": "ipython3",
   "version": "3.7.4"
  }
 },
 "nbformat": 4,
 "nbformat_minor": 5
}
