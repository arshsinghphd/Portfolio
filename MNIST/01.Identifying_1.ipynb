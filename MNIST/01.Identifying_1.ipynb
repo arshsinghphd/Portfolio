{
 "cells": [
  {
   "cell_type": "markdown",
   "id": "blank-taxation",
   "metadata": {},
   "source": [
    "# Training a binary model for identifying images of 1"
   ]
  },
  {
   "cell_type": "code",
   "execution_count": 1,
   "id": "distant-undergraduate",
   "metadata": {},
   "outputs": [],
   "source": [
    "from sklearn.datasets import fetch_openml"
   ]
  },
  {
   "cell_type": "code",
   "execution_count": 2,
   "id": "generic-cooper",
   "metadata": {},
   "outputs": [],
   "source": [
    "mnist = fetch_openml('mnist_784',version=1)"
   ]
  },
  {
   "cell_type": "code",
   "execution_count": 3,
   "id": "operational-profit",
   "metadata": {},
   "outputs": [],
   "source": [
    "import numpy as np\n",
    "import matplotlib as mpl\n",
    "import matplotlib.pyplot as plt"
   ]
  },
  {
   "cell_type": "code",
   "execution_count": 4,
   "id": "entertaining-grace",
   "metadata": {},
   "outputs": [
    {
     "data": {
      "text/plain": [
       "dict_keys(['data', 'target', 'frame', 'categories', 'feature_names', 'target_names', 'DESCR', 'details', 'url'])"
      ]
     },
     "execution_count": 4,
     "metadata": {},
     "output_type": "execute_result"
    }
   ],
   "source": [
    "mnist.keys()"
   ]
  },
  {
   "cell_type": "code",
   "execution_count": 5,
   "id": "applied-assistant",
   "metadata": {},
   "outputs": [],
   "source": [
    "X, y = mnist['data'], mnist['target'].astype(np.uint8)"
   ]
  },
  {
   "cell_type": "markdown",
   "id": "filled-suspension",
   "metadata": {},
   "source": [
    "### Sample the Data"
   ]
  },
  {
   "cell_type": "code",
   "execution_count": 6,
   "id": "urban-cleaners",
   "metadata": {},
   "outputs": [
    {
     "data": {
      "text/plain": [
       "array([  0.,   0.,   0.,   0.,   0.,   0.,   0.,   0.,   0.,   0.,   0.,\n",
       "         0.,   0.,   0.,   0.,   0.,   0.,   0.,   0.,   0.,   0.,   0.,\n",
       "         0.,   0.,   0.,   0.,   0.,   0.,   0.,   0.,   0.,   0.,   0.,\n",
       "         0.,   0.,   0.,   0.,   0.,   0.,   0.,   0.,   0.,   0.,   0.,\n",
       "         0.,   0.,   0.,   0.,   0.,   0.,   0.,   0.,   0.,   0.,   0.,\n",
       "         0.,   0.,   0.,   0.,   0.,   0.,   0.,   0.,   0.,   0.,   0.,\n",
       "         0.,   0.,   0.,   0.,   0.,   0.,   0.,   0.,   0.,   0.,   0.,\n",
       "         0.,   0.,   0.,   0.,   0.,   0.,   0.,   0.,   0.,   0.,   0.,\n",
       "         0.,   0.,   0.,   0.,   0.,   0.,   0.,   0.,   0.,   0.,   0.,\n",
       "         0.,   0.,   0.,   0.,   0.,   0.,   0.,   0.,   0.,   0.,   0.,\n",
       "         0.,   0.,   0.,   0.,   0.,   0.,   0.,   0.,   0.,   0.,   0.,\n",
       "         0.,   0.,   0.,   0.,   0.,   0.,   0.,   0.,   0.,   0.,   0.,\n",
       "         0.,   0.,   0.,   0.,   0.,   0.,   0.,   0.,   0.,   0.,   0.,\n",
       "         0.,   0.,   0.,   0.,   0.,   0.,   0.,   0.,   0.,   3.,  18.,\n",
       "        18.,  18., 126., 136., 175.,  26., 166., 255., 247., 127.,   0.,\n",
       "         0.,   0.,   0.,   0.,   0.,   0.,   0.,   0.,   0.,   0.,   0.,\n",
       "        30.,  36.,  94., 154., 170., 253., 253., 253., 253., 253., 225.,\n",
       "       172., 253., 242., 195.,  64.,   0.,   0.,   0.,   0.,   0.,   0.,\n",
       "         0.,   0.,   0.,   0.,   0.,  49., 238., 253., 253., 253., 253.,\n",
       "       253., 253., 253., 253., 251.,  93.,  82.,  82.,  56.,  39.,   0.,\n",
       "         0.,   0.,   0.,   0.,   0.,   0.,   0.,   0.,   0.,   0.,   0.,\n",
       "        18., 219., 253., 253., 253., 253., 253., 198., 182., 247., 241.,\n",
       "         0.,   0.,   0.,   0.,   0.,   0.,   0.,   0.,   0.,   0.,   0.,\n",
       "         0.,   0.,   0.,   0.,   0.,   0.,   0.,  80., 156., 107., 253.,\n",
       "       253., 205.,  11.,   0.,  43., 154.,   0.,   0.,   0.,   0.,   0.,\n",
       "         0.,   0.,   0.,   0.,   0.,   0.,   0.,   0.,   0.,   0.,   0.,\n",
       "         0.,   0.,   0.,  14.,   1., 154., 253.,  90.,   0.,   0.,   0.,\n",
       "         0.,   0.,   0.,   0.,   0.,   0.,   0.,   0.,   0.,   0.,   0.,\n",
       "         0.,   0.,   0.,   0.,   0.,   0.,   0.,   0.,   0.,   0.,   0.,\n",
       "       139., 253., 190.,   2.,   0.,   0.,   0.,   0.,   0.,   0.,   0.,\n",
       "         0.,   0.,   0.,   0.,   0.,   0.,   0.,   0.,   0.,   0.,   0.,\n",
       "         0.,   0.,   0.,   0.,   0.,   0.,  11., 190., 253.,  70.,   0.,\n",
       "         0.,   0.,   0.,   0.,   0.,   0.,   0.,   0.,   0.,   0.,   0.,\n",
       "         0.,   0.,   0.,   0.,   0.,   0.,   0.,   0.,   0.,   0.,   0.,\n",
       "         0.,   0.,  35., 241., 225., 160., 108.,   1.,   0.,   0.,   0.,\n",
       "         0.,   0.,   0.,   0.,   0.,   0.,   0.,   0.,   0.,   0.,   0.,\n",
       "         0.,   0.,   0.,   0.,   0.,   0.,   0.,   0.,   0.,  81., 240.,\n",
       "       253., 253., 119.,  25.,   0.,   0.,   0.,   0.,   0.,   0.,   0.,\n",
       "         0.,   0.,   0.,   0.,   0.,   0.,   0.,   0.,   0.,   0.,   0.,\n",
       "         0.,   0.,   0.,   0.,   0.,  45., 186., 253., 253., 150.,  27.,\n",
       "         0.,   0.,   0.,   0.,   0.,   0.,   0.,   0.,   0.,   0.,   0.,\n",
       "         0.,   0.,   0.,   0.,   0.,   0.,   0.,   0.,   0.,   0.,   0.,\n",
       "         0.,  16.,  93., 252., 253., 187.,   0.,   0.,   0.,   0.,   0.,\n",
       "         0.,   0.,   0.,   0.,   0.,   0.,   0.,   0.,   0.,   0.,   0.,\n",
       "         0.,   0.,   0.,   0.,   0.,   0.,   0.,   0.,   0., 249., 253.,\n",
       "       249.,  64.,   0.,   0.,   0.,   0.,   0.,   0.,   0.,   0.,   0.,\n",
       "         0.,   0.,   0.,   0.,   0.,   0.,   0.,   0.,   0.,   0.,   0.,\n",
       "         0.,  46., 130., 183., 253., 253., 207.,   2.,   0.,   0.,   0.,\n",
       "         0.,   0.,   0.,   0.,   0.,   0.,   0.,   0.,   0.,   0.,   0.,\n",
       "         0.,   0.,   0.,   0.,   0.,  39., 148., 229., 253., 253., 253.,\n",
       "       250., 182.,   0.,   0.,   0.,   0.,   0.,   0.,   0.,   0.,   0.,\n",
       "         0.,   0.,   0.,   0.,   0.,   0.,   0.,   0.,   0.,  24., 114.,\n",
       "       221., 253., 253., 253., 253., 201.,  78.,   0.,   0.,   0.,   0.,\n",
       "         0.,   0.,   0.,   0.,   0.,   0.,   0.,   0.,   0.,   0.,   0.,\n",
       "         0.,   0.,  23.,  66., 213., 253., 253., 253., 253., 198.,  81.,\n",
       "         2.,   0.,   0.,   0.,   0.,   0.,   0.,   0.,   0.,   0.,   0.,\n",
       "         0.,   0.,   0.,   0.,   0.,   0.,  18., 171., 219., 253., 253.,\n",
       "       253., 253., 195.,  80.,   9.,   0.,   0.,   0.,   0.,   0.,   0.,\n",
       "         0.,   0.,   0.,   0.,   0.,   0.,   0.,   0.,   0.,   0.,  55.,\n",
       "       172., 226., 253., 253., 253., 253., 244., 133.,  11.,   0.,   0.,\n",
       "         0.,   0.,   0.,   0.,   0.,   0.,   0.,   0.,   0.,   0.,   0.,\n",
       "         0.,   0.,   0.,   0.,   0., 136., 253., 253., 253., 212., 135.,\n",
       "       132.,  16.,   0.,   0.,   0.,   0.,   0.,   0.,   0.,   0.,   0.,\n",
       "         0.,   0.,   0.,   0.,   0.,   0.,   0.,   0.,   0.,   0.,   0.,\n",
       "         0.,   0.,   0.,   0.,   0.,   0.,   0.,   0.,   0.,   0.,   0.,\n",
       "         0.,   0.,   0.,   0.,   0.,   0.,   0.,   0.,   0.,   0.,   0.,\n",
       "         0.,   0.,   0.,   0.,   0.,   0.,   0.,   0.,   0.,   0.,   0.,\n",
       "         0.,   0.,   0.,   0.,   0.,   0.,   0.,   0.,   0.,   0.,   0.,\n",
       "         0.,   0.,   0.,   0.,   0.,   0.,   0.,   0.,   0.,   0.,   0.,\n",
       "         0.,   0.,   0.,   0.,   0.,   0.,   0.,   0.,   0.,   0.,   0.,\n",
       "         0.,   0.,   0.,   0.,   0.,   0.,   0.,   0.,   0.,   0.,   0.,\n",
       "         0.,   0.,   0.])"
      ]
     },
     "execution_count": 6,
     "metadata": {},
     "output_type": "execute_result"
    }
   ],
   "source": [
    "X[0]"
   ]
  },
  {
   "cell_type": "code",
   "execution_count": 7,
   "id": "demanding-valve",
   "metadata": {},
   "outputs": [
    {
     "data": {
      "text/plain": [
       "(784,)"
      ]
     },
     "execution_count": 7,
     "metadata": {},
     "output_type": "execute_result"
    }
   ],
   "source": [
    "X[0].shape"
   ]
  },
  {
   "cell_type": "code",
   "execution_count": 8,
   "id": "downtown-store",
   "metadata": {},
   "outputs": [],
   "source": [
    "some_img=X[0].reshape(28,28)"
   ]
  },
  {
   "cell_type": "code",
   "execution_count": 9,
   "id": "latter-desire",
   "metadata": {},
   "outputs": [
    {
     "data": {
      "image/png": "[encoded data removed]",
      "text/plain": [
       "<Figure size 432x288 with 1 Axes>"
      ]
     },
     "metadata": {
      "needs_background": "light"
     },
     "output_type": "display_data"
    }
   ],
   "source": [
    "plt.imshow(some_img, cmap='binary')\n",
    "plt.axis('off')\n",
    "plt.show()"
   ]
  },
  {
   "cell_type": "code",
   "execution_count": 10,
   "id": "worse-composer",
   "metadata": {},
   "outputs": [
    {
     "data": {
      "text/plain": [
       "5"
      ]
     },
     "execution_count": 10,
     "metadata": {},
     "output_type": "execute_result"
    }
   ],
   "source": [
    "y[0]"
   ]
  },
  {
   "cell_type": "code",
   "execution_count": 11,
   "id": "relevant-jason",
   "metadata": {},
   "outputs": [
    {
     "data": {
      "text/plain": [
       "70000"
      ]
     },
     "execution_count": 11,
     "metadata": {},
     "output_type": "execute_result"
    }
   ],
   "source": [
    "len(X)"
   ]
  },
  {
   "cell_type": "markdown",
   "id": "conservative-breathing",
   "metadata": {},
   "source": [
    "### Split the data into train and test\n",
    "\n",
    "Data is already shuffled\n",
    "we will split 60,000:10,000 for train:test"
   ]
  },
  {
   "cell_type": "code",
   "execution_count": 12,
   "id": "found-potential",
   "metadata": {},
   "outputs": [],
   "source": [
    "X_train, X_test, y_train, y_test = X[:60000], X[60000:], y[:60000], y[60000:]"
   ]
  },
  {
   "cell_type": "code",
   "execution_count": 13,
   "id": "victorian-annotation",
   "metadata": {},
   "outputs": [],
   "source": [
    "y_train_1=(y_train==1)\n",
    "y_test_1=(y_test==1)"
   ]
  },
  {
   "cell_type": "markdown",
   "id": "split-stage",
   "metadata": {},
   "source": [
    "### I will compare three models: SDGClassifier, RandomForestClassifier, and a dumb classifier\n",
    "While it is evident that RF model will work better, this is to demonstrate which metrics to use for model selection."
   ]
  },
  {
   "cell_type": "code",
   "execution_count": 14,
   "id": "unexpected-paradise",
   "metadata": {},
   "outputs": [],
   "source": [
    "from sklearn.linear_model import SGDClassifier"
   ]
  },
  {
   "cell_type": "code",
   "execution_count": 15,
   "id": "coral-cooling",
   "metadata": {},
   "outputs": [],
   "source": [
    "sgd_clf = SGDClassifier(random_state=42)"
   ]
  },
  {
   "cell_type": "code",
   "execution_count": 16,
   "id": "posted-homework",
   "metadata": {},
   "outputs": [
    {
     "data": {
      "text/plain": [
       "SGDClassifier(random_state=42)"
      ]
     },
     "execution_count": 16,
     "metadata": {},
     "output_type": "execute_result"
    }
   ],
   "source": [
    "sgd_clf.fit(X_train,y_train_1)"
   ]
  },
  {
   "cell_type": "code",
   "execution_count": 17,
   "id": "democratic-house",
   "metadata": {},
   "outputs": [],
   "source": [
    "from sklearn.ensemble import RandomForestClassifier"
   ]
  },
  {
   "cell_type": "code",
   "execution_count": 18,
   "id": "favorite-wrapping",
   "metadata": {},
   "outputs": [],
   "source": [
    "rf_clf=RandomForestClassifier(random_state=42)"
   ]
  },
  {
   "cell_type": "code",
   "execution_count": 19,
   "id": "subject-pharmaceutical",
   "metadata": {},
   "outputs": [
    {
     "data": {
      "text/plain": [
       "RandomForestClassifier(random_state=42)"
      ]
     },
     "execution_count": 19,
     "metadata": {},
     "output_type": "execute_result"
    }
   ],
   "source": [
    "rf_clf.fit(X_train,y_train_1)"
   ]
  },
  {
   "cell_type": "code",
   "execution_count": 20,
   "id": "individual-surname",
   "metadata": {},
   "outputs": [],
   "source": [
    "from sklearn.base import BaseEstimator"
   ]
  },
  {
   "cell_type": "code",
   "execution_count": 21,
   "id": "junior-insurance",
   "metadata": {},
   "outputs": [],
   "source": [
    "class Never1Classifier(BaseEstimator):\n",
    "    def fit(self,X,y=None):\n",
    "        return self\n",
    "    def predict(self,X):\n",
    "        return np.zeros((len(X),1),dtype=bool)\n"
   ]
  },
  {
   "cell_type": "markdown",
   "id": "happy-punch",
   "metadata": {},
   "source": [
    "As the name reflects, this dumb classifier marks all images as not 5. There is an important point about which metrics to use for classification using this."
   ]
  },
  {
   "cell_type": "code",
   "execution_count": 22,
   "id": "emotional-variable",
   "metadata": {},
   "outputs": [],
   "source": [
    "n1_clf=Never1Classifier()"
   ]
  },
  {
   "cell_type": "code",
   "execution_count": 23,
   "id": "urban-canyon",
   "metadata": {},
   "outputs": [
    {
     "data": {
      "text/plain": [
       "Never1Classifier()"
      ]
     },
     "execution_count": 23,
     "metadata": {},
     "output_type": "execute_result"
    }
   ],
   "source": [
    "n1_clf.fit(X_train, y_train_1)"
   ]
  },
  {
   "cell_type": "markdown",
   "id": "amino-silence",
   "metadata": {},
   "source": [
    "### Cross Validation"
   ]
  },
  {
   "cell_type": "code",
   "execution_count": 24,
   "id": "suited-somerset",
   "metadata": {},
   "outputs": [],
   "source": [
    "from sklearn.model_selection import cross_val_score, cross_val_predict"
   ]
  },
  {
   "cell_type": "code",
   "execution_count": 25,
   "id": "corresponding-railway",
   "metadata": {},
   "outputs": [
    {
     "data": {
      "text/plain": [
       "array([0.9878 , 0.98095, 0.99005])"
      ]
     },
     "execution_count": 25,
     "metadata": {},
     "output_type": "execute_result"
    }
   ],
   "source": [
    "cross_val_score(sgd_clf,X_train,y_train_1,cv=3,scoring='accuracy')"
   ]
  },
  {
   "cell_type": "code",
   "execution_count": 26,
   "id": "chemical-sperm",
   "metadata": {},
   "outputs": [
    {
     "data": {
      "text/plain": [
       "array([0.99485, 0.9954 , 0.99555])"
      ]
     },
     "execution_count": 26,
     "metadata": {},
     "output_type": "execute_result"
    }
   ],
   "source": [
    "cross_val_score(rf_clf,X_train,y_train_1,cv=3,scoring='accuracy')"
   ]
  },
  {
   "cell_type": "markdown",
   "id": "neutral-router",
   "metadata": {},
   "source": [
    "The SGD model has accuracy above 98 for each fold, and the RF model above 99. How good is it?"
   ]
  },
  {
   "cell_type": "code",
   "execution_count": 27,
   "id": "early-realtor",
   "metadata": {},
   "outputs": [
    {
     "data": {
      "text/plain": [
       "array([0.88595, 0.8859 , 0.89105])"
      ]
     },
     "execution_count": 27,
     "metadata": {},
     "output_type": "execute_result"
    }
   ],
   "source": [
    "cross_val_score(n1_clf,X_train,y_train_1,cv=3,scoring='accuracy')"
   ]
  },
  {
   "cell_type": "markdown",
   "id": "painful-collector",
   "metadata": {},
   "source": [
    "The dumb classifier got an accuracy of 88.59%, simply because 1's form less than 12% of the data likely.\n",
    "\n",
    "Clearly, we need to measure the performance of model using different measures, some of these are: _precision_ and _recall_."
   ]
  },
  {
   "cell_type": "code",
   "execution_count": 28,
   "id": "smooth-province",
   "metadata": {},
   "outputs": [],
   "source": [
    "from sklearn.metrics import confusion_matrix"
   ]
  },
  {
   "cell_type": "code",
   "execution_count": 29,
   "id": "marine-examination",
   "metadata": {},
   "outputs": [],
   "source": [
    "y_train_pred_sgd=sgd_clf.predict(X_train)"
   ]
  },
  {
   "cell_type": "code",
   "execution_count": 30,
   "id": "fatal-operator",
   "metadata": {},
   "outputs": [],
   "source": [
    "y_train_pred_rf=rf_clf.predict(X_train)"
   ]
  },
  {
   "cell_type": "code",
   "execution_count": 31,
   "id": "composite-architecture",
   "metadata": {},
   "outputs": [],
   "source": [
    "y_train_pred_n1=n1_clf.predict(X_train)"
   ]
  },
  {
   "cell_type": "code",
   "execution_count": 32,
   "id": "round-frederick",
   "metadata": {},
   "outputs": [
    {
     "data": {
      "text/plain": [
       "array([[53258,     0],\n",
       "       [ 6742,     0]], dtype=int64)"
      ]
     },
     "execution_count": 32,
     "metadata": {},
     "output_type": "execute_result"
    }
   ],
   "source": [
    "confusion_matrix(y_train_1,y_train_pred_n1)"
   ]
  },
  {
   "cell_type": "markdown",
   "id": "historical-anderson",
   "metadata": {},
   "source": [
    "The first row of the matrix means that there were 53258 non-1s and they were always classified as non-1. 0 of them were classified as 1. The second row means that there were 6742 1s that were classified as non-1, 0 were classified as 1. In terms of errors:\n",
    "\n",
    "[[True Negatives , False Negatives],\n",
    " [False Positives, True Positives ]]\n",
    " \n",
    " Then, precision is among the ones we predicted to be 1, how many are truly 1:\n",
    " TP/(TP+FN)\n",
    " \n",
    " Recall is of the actual 1s, how many were we able to identify:\n",
    " TP/(TP+FP)\n",
    " \n",
    " For the n1 model both precision and recall are 0, by design."
   ]
  },
  {
   "cell_type": "code",
   "execution_count": 33,
   "id": "wicked-agency",
   "metadata": {},
   "outputs": [
    {
     "data": {
      "text/plain": [
       "array([[52756,   502],\n",
       "       [   94,  6648]], dtype=int64)"
      ]
     },
     "execution_count": 33,
     "metadata": {},
     "output_type": "execute_result"
    }
   ],
   "source": [
    "confusion_matrix(y_train_1,y_train_pred_sgd)"
   ]
  },
  {
   "cell_type": "code",
   "execution_count": 34,
   "id": "pointed-spice",
   "metadata": {
    "scrolled": true
   },
   "outputs": [
    {
     "data": {
      "text/plain": [
       "array([[53258,     0],\n",
       "       [    0,  6742]], dtype=int64)"
      ]
     },
     "execution_count": 34,
     "metadata": {},
     "output_type": "execute_result"
    }
   ],
   "source": [
    "confusion_matrix(y_train_1,y_train_pred_rf)"
   ]
  },
  {
   "cell_type": "markdown",
   "id": "innovative-manual",
   "metadata": {},
   "source": [
    "clearly, the rf model has 100% recall and precision."
   ]
  },
  {
   "cell_type": "code",
   "execution_count": 35,
   "id": "rural-surge",
   "metadata": {},
   "outputs": [],
   "source": [
    "from sklearn.metrics import precision_score, recall_score"
   ]
  },
  {
   "cell_type": "code",
   "execution_count": 36,
   "id": "suspended-burden",
   "metadata": {},
   "outputs": [
    {
     "data": {
      "text/plain": [
       "(1.0, 1.0)"
      ]
     },
     "execution_count": 36,
     "metadata": {},
     "output_type": "execute_result"
    }
   ],
   "source": [
    "precision_score(y_train_1,y_train_pred_rf), recall_score(y_train_1,y_train_pred_rf)"
   ]
  },
  {
   "cell_type": "markdown",
   "id": "brazilian-closure",
   "metadata": {},
   "source": [
    "The SGD model is interesting, in that there is more about descision making to learn there."
   ]
  },
  {
   "cell_type": "code",
   "execution_count": 37,
   "id": "instrumental-german",
   "metadata": {
    "scrolled": true
   },
   "outputs": [
    {
     "data": {
      "text/plain": [
       "(0.9297902097902098, 0.9860575496885198)"
      ]
     },
     "execution_count": 37,
     "metadata": {},
     "output_type": "execute_result"
    }
   ],
   "source": [
    "precision_score(y_train_1,y_train_pred_sgd), recall_score(y_train_1,y_train_pred_sgd)"
   ]
  },
  {
   "cell_type": "code",
   "execution_count": 38,
   "id": "atomic-cotton",
   "metadata": {},
   "outputs": [],
   "source": [
    "from sklearn.metrics import precision_recall_curve"
   ]
  },
  {
   "cell_type": "code",
   "execution_count": 39,
   "id": "developed-passing",
   "metadata": {
    "scrolled": true
   },
   "outputs": [],
   "source": [
    "y_score_sgd=cross_val_predict(sgd_clf,X_train,y_train_1,cv=3, method='decision_function')"
   ]
  },
  {
   "cell_type": "code",
   "execution_count": 40,
   "id": "christian-excess",
   "metadata": {},
   "outputs": [],
   "source": [
    "precision, recall, threshold = precision_recall_curve(y_train_1,y_score_sgd)"
   ]
  },
  {
   "cell_type": "code",
   "execution_count": 41,
   "id": "varying-privacy",
   "metadata": {
    "scrolled": true
   },
   "outputs": [
    {
     "data": {
      "image/png": "[encoded data removed]",
      "text/plain": [
       "<Figure size 864x288 with 1 Axes>"
      ]
     },
     "metadata": {
      "needs_background": "light"
     },
     "output_type": "display_data"
    }
   ],
   "source": [
    "def plot_precision_recall_vs_threshold(precisions, recalls, thresholds):\n",
    "    plt.plot(thresholds, precisions[:-1], \"b--\", label=\"Precision\", linewidth=2)\n",
    "    plt.plot(thresholds, recalls[:-1], \"g-\", label=\"Recall\", linewidth=2)\n",
    "    plt.xlabel(\"Threshold\", fontsize=16)\n",
    "    plt.legend(loc=\"upper left\", fontsize=16)\n",
    "    plt.ylim([0, 1])\n",
    "    \n",
    "plt.figure(figsize=(12, 4))\n",
    "plot_precision_recall_vs_threshold(precision, recall, threshold)\n",
    "plt.xlim([-120000, 50000])\n",
    "plt.show()\n"
   ]
  },
  {
   "cell_type": "code",
   "execution_count": 42,
   "id": "detailed-underground",
   "metadata": {
    "scrolled": true
   },
   "outputs": [
    {
     "data": {
      "image/png": "[encoded data removed]",
      "text/plain": [
       "<Figure size 432x432 with 1 Axes>"
      ]
     },
     "metadata": {
      "needs_background": "light"
     },
     "output_type": "display_data"
    }
   ],
   "source": [
    "def plot_precision_vs_recall(precisions, recalls):\n",
    "    plt.plot(recalls, precisions, \"b-\", linewidth=2)\n",
    "    plt.xlabel(\"Recall\", fontsize=16)\n",
    "    plt.ylabel(\"Precision\", fontsize=16)\n",
    "    plt.axis([0, 1, 0, 1])\n",
    "\n",
    "plt.figure(figsize=(6, 6))\n",
    "plot_precision_vs_recall(precision, recall)\n",
    "plt.show()"
   ]
  },
  {
   "cell_type": "markdown",
   "id": "medium-supervisor",
   "metadata": {},
   "source": [
    "Search for lowest threshold (_th1_) that gives .50 recall \n",
    "\n",
    "Then search for lowest threshold (_th2_) above _th1_ one that gives .95 precision"
   ]
  },
  {
   "cell_type": "code",
   "execution_count": 43,
   "id": "banned-french",
   "metadata": {},
   "outputs": [
    {
     "data": {
      "text/plain": [
       "-104763.01316771393"
      ]
     },
     "execution_count": 43,
     "metadata": {},
     "output_type": "execute_result"
    }
   ],
   "source": [
    "thr_50_recall=threshold[np.argmax(recall>=0.5)]\n",
    "thr_50_recall"
   ]
  },
  {
   "cell_type": "code",
   "execution_count": 44,
   "id": "confident-practitioner",
   "metadata": {},
   "outputs": [],
   "source": [
    "threshold_1=threshold[threshold>thr_50_recall]"
   ]
  },
  {
   "cell_type": "code",
   "execution_count": 45,
   "id": "neutral-argument",
   "metadata": {},
   "outputs": [
    {
     "data": {
      "text/plain": [
       "172.03608833187144"
      ]
     },
     "execution_count": 45,
     "metadata": {},
     "output_type": "execute_result"
    }
   ],
   "source": [
    "thr_95_pre=threshold_1[np.argmax(precision>=0.95)]\n",
    "thr_95_pre"
   ]
  },
  {
   "cell_type": "code",
   "execution_count": 47,
   "id": "consolidated-cable",
   "metadata": {},
   "outputs": [],
   "source": [
    "y_train_pred_sgd_95=(y_score_sgd>=thr_95_pre)"
   ]
  },
  {
   "cell_type": "code",
   "execution_count": 48,
   "id": "bacterial-thinking",
   "metadata": {},
   "outputs": [
    {
     "data": {
      "text/plain": [
       "0.9502358849490185"
      ]
     },
     "execution_count": 48,
     "metadata": {},
     "output_type": "execute_result"
    }
   ],
   "source": [
    "precision_score(y_train_1,y_train_pred_sgd_95)"
   ]
  },
  {
   "cell_type": "code",
   "execution_count": 49,
   "id": "boxed-liechtenstein",
   "metadata": {},
   "outputs": [
    {
     "data": {
      "text/plain": [
       "0.9261346781370513"
      ]
     },
     "execution_count": 49,
     "metadata": {},
     "output_type": "execute_result"
    }
   ],
   "source": [
    "recall_score(y_train_1,y_train_pred_sgd_95)"
   ]
  },
  {
   "cell_type": "markdown",
   "id": "north-seafood",
   "metadata": {},
   "source": [
    "Thus the threshold we need is 172.04 at which precision improves from 92, at threshold 0, to 95. The cost is reducing recall from 98 to 92.6"
   ]
  },
  {
   "cell_type": "code",
   "execution_count": 50,
   "id": "marked-serve",
   "metadata": {},
   "outputs": [],
   "source": [
    "y_train_pred_sgd2=sgd_clf.predict(X_train)"
   ]
  },
  {
   "cell_type": "code",
   "execution_count": 51,
   "id": "laughing-italian",
   "metadata": {},
   "outputs": [
    {
     "data": {
      "text/plain": [
       "array([False, False, False, ..., False, False, False])"
      ]
     },
     "execution_count": 51,
     "metadata": {},
     "output_type": "execute_result"
    }
   ],
   "source": [
    "y_train_pred_sgd2"
   ]
  },
  {
   "cell_type": "markdown",
   "id": "similar-moscow",
   "metadata": {},
   "source": [
    "# Prediction on Test Data"
   ]
  },
  {
   "cell_type": "markdown",
   "id": "heated-chancellor",
   "metadata": {},
   "source": [
    "Prediction, RandomForestClassifier"
   ]
  },
  {
   "cell_type": "code",
   "execution_count": 52,
   "id": "coated-roberts",
   "metadata": {},
   "outputs": [],
   "source": [
    "y_test_pred_1_rf=rf_clf.predict(X_test)"
   ]
  },
  {
   "cell_type": "code",
   "execution_count": 53,
   "id": "unexpected-burns",
   "metadata": {},
   "outputs": [
    {
     "data": {
      "text/plain": [
       "(0.9964093357271095, 0.9779735682819384)"
      ]
     },
     "execution_count": 53,
     "metadata": {},
     "output_type": "execute_result"
    }
   ],
   "source": [
    "precision_score(y_test_1,y_test_pred_1_rf), recall_score(y_test_1,y_test_pred_1_rf)"
   ]
  }
 ],
 "metadata": {
  "kernelspec": {
   "display_name": "Python 3",
   "language": "python",
   "name": "python3"
  },
  "language_info": {
   "codemirror_mode": {
    "name": "ipython",
    "version": 3
   },
   "file_extension": ".py",
   "mimetype": "text/x-python",
   "name": "python",
   "nbconvert_exporter": "python",
   "pygments_lexer": "ipython3",
   "version": "3.7.4"
  }
 },
 "nbformat": 4,
 "nbformat_minor": 5
}
