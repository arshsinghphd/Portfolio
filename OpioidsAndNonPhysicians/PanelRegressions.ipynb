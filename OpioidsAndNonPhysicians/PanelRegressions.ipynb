{
 "cells": [
  {
   "cell_type": "markdown",
   "id": "e2c15290",
   "metadata": {},
   "source": [
    "### This file is associated with my research project testing the hypothesis that prescriptive power of non-physician is associated with more opioid prescriptions. \n",
    "### I use raw arcos dataset provided by washington post. This data follows each painkiller pill in the years 2006-2012 across all states in the USA.\n",
    "### As expected, it is a massive dataset of 17GB (or 17 million kB) I have downloaded and saved on my PC, and as such I will not be able to process it using my RAM. I could use the arcos API provided by wapo to perform the same task, but in my experience their server was always to busy to even perform simple tasks.\n",
    "### My goal in this file is to use the panel data I collapsed from the raw file and a few other sources for further testing for regression discontinuity at the state-level. \n",
    "\n",
    "Steps in this analysis:\n",
    "1. Use panel.csv file to make a dataframe (df) with months and state as indices.\n",
    "1. Model panel regressions for testing the dependence of drug quantity (Hydroxycodine, Oxycodine, and Both) on various law changes.\n",
    "\n",
    "(c) Arsh Singh, Dec 2022"
   ]
  },
  {
   "cell_type": "code",
   "execution_count": 1,
   "id": "4c067d68",
   "metadata": {},
   "outputs": [],
   "source": [
    "import pandas as pd"
   ]
  },
  {
   "cell_type": "code",
   "execution_count": 2,
   "id": "f24ecc54",
   "metadata": {},
   "outputs": [],
   "source": [
    "folder='D:/arcos_all_washpost/'"
   ]
  },
  {
   "cell_type": "code",
   "execution_count": 3,
   "id": "6259d51d",
   "metadata": {},
   "outputs": [],
   "source": [
    "file='panel.csv'\n",
    "path=folder+file\n",
    "panel_temp= pd.read_csv(path, usecols = ['STATE', 'months', 'np', 'np_no_md','pa','any','hydrocodone_per_cap','hydrocodone','oxycodone_per_cap','oxycodone','both_per_cap','both'])\n",
    "panel_temp['trend_np']=panel_temp['np']*panel_temp['months']/panel_temp['months'].mean()\n",
    "panel_temp['trend_np_no_md']=panel_temp['np_no_md']*panel_temp['months']/panel_temp['months'].mean()\n",
    "panel_temp['trend_pa']=panel_temp['pa']*panel_temp['months']/panel_temp['months'].mean()\n",
    "panel_temp['trend_any']=panel_temp['any']*panel_temp['months']/panel_temp['months'].mean()\n",
    "file='panel_trend.csv'\n",
    "path=folder+file\n",
    "panel_temp.to_csv(path,index=None)"
   ]
  },
  {
   "cell_type": "code",
   "execution_count": 4,
   "id": "ef2f1e42",
   "metadata": {},
   "outputs": [],
   "source": [
    "file='panel_trend.csv'\n",
    "path=folder+file\n",
    "panel= pd.read_csv(path, usecols = ['STATE', 'months', 'np', 'np_no_md','pa', 'any',\n",
    "                                    'hydrocodone_per_cap','hydrocodone',\n",
    "                                    'oxycodone_per_cap','oxycodone',\n",
    "                                    'both_per_cap','both',\n",
    "                                    'trend_np','trend_np_no_md','trend_pa','trend_any'\n",
    "                                   ],index_col=['STATE','months'])"
   ]
  },
  {
   "cell_type": "code",
   "execution_count": 5,
   "id": "f9f6dde6",
   "metadata": {},
   "outputs": [
    {
     "data": {
      "text/html": [
       "<div>\n",
       "<style scoped>\n",
       "    .dataframe tbody tr th:only-of-type {\n",
       "        vertical-align: middle;\n",
       "    }\n",
       "\n",
       "    .dataframe tbody tr th {\n",
       "        vertical-align: top;\n",
       "    }\n",
       "\n",
       "    .dataframe thead th {\n",
       "        text-align: right;\n",
       "    }\n",
       "</style>\n",
       "<table border=\"1\" class=\"dataframe\">\n",
       "  <thead>\n",
       "    <tr style=\"text-align: right;\">\n",
       "      <th></th>\n",
       "      <th>trend_np</th>\n",
       "      <th>trend_np_no_md</th>\n",
       "      <th>trend_pa</th>\n",
       "      <th>trend_any</th>\n",
       "    </tr>\n",
       "  </thead>\n",
       "  <tbody>\n",
       "    <tr>\n",
       "      <th>count</th>\n",
       "      <td>2804.000000</td>\n",
       "      <td>2804.000000</td>\n",
       "      <td>2804.000000</td>\n",
       "      <td>2804.000000</td>\n",
       "    </tr>\n",
       "    <tr>\n",
       "      <th>mean</th>\n",
       "      <td>0.659086</td>\n",
       "      <td>0.146237</td>\n",
       "      <td>0.570285</td>\n",
       "      <td>0.693346</td>\n",
       "    </tr>\n",
       "    <tr>\n",
       "      <th>std</th>\n",
       "      <td>0.474131</td>\n",
       "      <td>0.353432</td>\n",
       "      <td>0.495153</td>\n",
       "      <td>0.461242</td>\n",
       "    </tr>\n",
       "    <tr>\n",
       "      <th>min</th>\n",
       "      <td>0.000000</td>\n",
       "      <td>0.000000</td>\n",
       "      <td>0.000000</td>\n",
       "      <td>0.000000</td>\n",
       "    </tr>\n",
       "    <tr>\n",
       "      <th>25%</th>\n",
       "      <td>0.000000</td>\n",
       "      <td>0.000000</td>\n",
       "      <td>0.000000</td>\n",
       "      <td>0.000000</td>\n",
       "    </tr>\n",
       "    <tr>\n",
       "      <th>50%</th>\n",
       "      <td>0.999300</td>\n",
       "      <td>0.000000</td>\n",
       "      <td>0.998927</td>\n",
       "      <td>0.999466</td>\n",
       "    </tr>\n",
       "    <tr>\n",
       "      <th>75%</th>\n",
       "      <td>1.000420</td>\n",
       "      <td>0.000000</td>\n",
       "      <td>1.000254</td>\n",
       "      <td>1.000503</td>\n",
       "    </tr>\n",
       "    <tr>\n",
       "      <th>max</th>\n",
       "      <td>1.001457</td>\n",
       "      <td>1.001457</td>\n",
       "      <td>1.001457</td>\n",
       "      <td>1.001457</td>\n",
       "    </tr>\n",
       "  </tbody>\n",
       "</table>\n",
       "</div>"
      ],
      "text/plain": [
       "          trend_np  trend_np_no_md     trend_pa    trend_any\n",
       "count  2804.000000     2804.000000  2804.000000  2804.000000\n",
       "mean      0.659086        0.146237     0.570285     0.693346\n",
       "std       0.474131        0.353432     0.495153     0.461242\n",
       "min       0.000000        0.000000     0.000000     0.000000\n",
       "25%       0.000000        0.000000     0.000000     0.000000\n",
       "50%       0.999300        0.000000     0.998927     0.999466\n",
       "75%       1.000420        0.000000     1.000254     1.000503\n",
       "max       1.001457        1.001457     1.001457     1.001457"
      ]
     },
     "execution_count": 5,
     "metadata": {},
     "output_type": "execute_result"
    }
   ],
   "source": [
    "panel[['trend_np','trend_np_no_md','trend_pa','trend_any']].describe()"
   ]
  },
  {
   "cell_type": "code",
   "execution_count": 6,
   "id": "c8e369d6",
   "metadata": {},
   "outputs": [],
   "source": [
    "months= panel.index.get_level_values('months').to_list()\n",
    "panel['months'] = pd.Categorical(months)"
   ]
  },
  {
   "cell_type": "code",
   "execution_count": 7,
   "id": "d0c3e0a2",
   "metadata": {},
   "outputs": [],
   "source": [
    "# FE und RE model\n",
    "import statsmodels.api as sm\n",
    "from linearmodels import PanelOLS\n",
    "from linearmodels import RandomEffects"
   ]
  },
  {
   "cell_type": "code",
   "execution_count": 8,
   "id": "cfc9fdf1",
   "metadata": {
    "scrolled": true
   },
   "outputs": [
    {
     "name": "stdout",
     "output_type": "stream",
     "text": [
      "                          PanelOLS Estimation Summary                           \n",
      "================================================================================\n",
      "Dep. Variable:           both_per_cap   R-squared:                        0.1772\n",
      "Estimator:                   PanelOLS   R-squared (Between):             -0.1468\n",
      "No. Observations:                2804   R-squared (Within):               0.1772\n",
      "Date:                Wed, Jan 04 2023   R-squared (Overall):             -0.0886\n",
      "Time:                        06:42:32   Log-likelihood                   -5232.2\n",
      "Cov. Estimator:            Unadjusted                                           \n",
      "                                        F-statistic:                      98.884\n",
      "Entities:                          44   P-value                           0.0000\n",
      "Avg Obs:                       63.727   Distribution:                  F(6,2754)\n",
      "Min Obs:                       2.0000                                           \n",
      "Max Obs:                       71.000   F-statistic (robust):             98.884\n",
      "                                        P-value                           0.0000\n",
      "Time periods:                      71   Distribution:                  F(6,2754)\n",
      "Avg Obs:                       39.493                                           \n",
      "Min Obs:                       38.000                                           \n",
      "Max Obs:                       41.000                                           \n",
      "                                                                                \n",
      "                               Parameter Estimates                                \n",
      "==================================================================================\n",
      "                Parameter  Std. Err.     T-stat    P-value    Lower CI    Upper CI\n",
      "----------------------------------------------------------------------------------\n",
      "const              5.8624     0.1722     34.037     0.0000      5.5246      6.2001\n",
      "np_no_md           324.53     113.33     2.8635     0.0042      102.31      546.76\n",
      "np                -1739.5     103.68    -16.777     0.0000     -1942.8     -1536.2\n",
      "pa                 819.02     115.45     7.0943     0.0000      592.65      1045.4\n",
      "trend_np_no_md    -324.32     113.31    -2.8623     0.0042     -546.50     -102.14\n",
      "trend_np           1739.2     103.62     16.785     0.0000      1536.0      1942.3\n",
      "trend_pa          -817.64     115.36    -7.0875     0.0000     -1043.9     -591.44\n",
      "==================================================================================\n",
      "\n",
      "F-test for Poolability: 453.90\n",
      "P-value: 0.0000\n",
      "Distribution: F(43,2754)\n",
      "\n",
      "Included effects: Entity\n"
     ]
    }
   ],
   "source": [
    "exog_vars = ['np_no_md','np','pa','trend_np_no_md','trend_np','trend_pa']\n",
    "exog = sm.add_constant(panel[exog_vars])\n",
    "endog = panel['both_per_cap']\n",
    "\n",
    "# fixed effects model\n",
    "model_fe = PanelOLS(endog, exog, entity_effects = True) \n",
    "fe_res = model_fe.fit() \n",
    "print(fe_res)"
   ]
  },
  {
   "cell_type": "code",
   "execution_count": 9,
   "id": "145adfad",
   "metadata": {},
   "outputs": [
    {
     "name": "stdout",
     "output_type": "stream",
     "text": [
      "                        RandomEffects Estimation Summary                        \n",
      "================================================================================\n",
      "Dep. Variable:           both_per_cap   R-squared:                        0.1715\n",
      "Estimator:              RandomEffects   R-squared (Between):             -0.1118\n",
      "No. Observations:                2804   R-squared (Within):               0.1771\n",
      "Date:                Wed, Jan 04 2023   R-squared (Overall):             -0.0801\n",
      "Time:                        06:42:32   Log-likelihood                   -5260.9\n",
      "Cov. Estimator:            Unadjusted                                           \n",
      "                                        F-statistic:                      96.476\n",
      "Entities:                          44   P-value                           0.0000\n",
      "Avg Obs:                       63.727   Distribution:                  F(6,2797)\n",
      "Min Obs:                       2.0000                                           \n",
      "Max Obs:                       71.000   F-statistic (robust):             97.361\n",
      "                                        P-value                           0.0000\n",
      "Time periods:                      71   Distribution:                  F(6,2797)\n",
      "Avg Obs:                       39.493                                           \n",
      "Min Obs:                       38.000                                           \n",
      "Max Obs:                       41.000                                           \n",
      "                                                                                \n",
      "                               Parameter Estimates                                \n",
      "==================================================================================\n",
      "                Parameter  Std. Err.     T-stat    P-value    Lower CI    Upper CI\n",
      "----------------------------------------------------------------------------------\n",
      "const              5.4875     0.6707     8.1819     0.0000      4.1724      6.8026\n",
      "np_no_md           322.92     113.54     2.8441     0.0045      100.29      545.56\n",
      "np                -1732.2     103.90    -16.672     0.0000     -1935.9     -1528.4\n",
      "pa                 803.64     115.63     6.9499     0.0000      576.91      1030.4\n",
      "trend_np_no_md    -322.82     113.52    -2.8438     0.0045     -545.41     -100.24\n",
      "trend_np           1731.8     103.83     16.679     0.0000      1528.2      1935.4\n",
      "trend_pa          -802.38     115.55    -6.9440     0.0000     -1029.0     -575.81\n",
      "==================================================================================\n"
     ]
    }
   ],
   "source": [
    "exog_vars = ['np_no_md','np','pa','trend_np_no_md','trend_np','trend_pa']\n",
    "exog = sm.add_constant(panel[exog_vars])\n",
    "endog = panel['both_per_cap']\n",
    "\n",
    "#random effects model\n",
    "model_re = RandomEffects(endog, exog) \n",
    "re_res = model_re.fit() \n",
    "print(re_res)"
   ]
  }
 ],
 "metadata": {
  "kernelspec": {
   "display_name": "Python 3 (ipykernel)",
   "language": "python",
   "name": "python3"
  },
  "language_info": {
   "codemirror_mode": {
    "name": "ipython",
    "version": 3
   },
   "file_extension": ".py",
   "mimetype": "text/x-python",
   "name": "python",
   "nbconvert_exporter": "python",
   "pygments_lexer": "ipython3",
   "version": "3.7.16"
  }
 },
 "nbformat": 4,
 "nbformat_minor": 5
}
