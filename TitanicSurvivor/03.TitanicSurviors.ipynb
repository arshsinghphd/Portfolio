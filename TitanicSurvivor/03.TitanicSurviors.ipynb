{
 "cells": [
  {
   "cell_type": "markdown",
   "id": "rising-newport",
   "metadata": {},
   "source": [
    "# Titanic - Machine Learning from Disaster"
   ]
  },
  {
   "cell_type": "markdown",
   "id": "published-jurisdiction",
   "metadata": {},
   "source": [
    "https://www.kaggle.com/competitions/titanic"
   ]
  },
  {
   "cell_type": "markdown",
   "id": "visible-battery",
   "metadata": {},
   "source": [
    "### The Challenge\n",
    "\n",
    "The sinking of the Titanic is one of the most infamous shipwrecks in history.\n",
    "\n",
    "On April 15, 1912, during her maiden voyage, the widely considered “unsinkable” RMS Titanic sank after colliding with an iceberg. Unfortunately, there weren’t enough lifeboats for everyone onboard, resulting in the death of 1502 out of 2224 passengers and crew.\n",
    "\n",
    "While there was some element of luck involved in surviving, it seems some groups of people were more likely to survive than others.\n",
    "\n",
    "In this challenge, we ask you to build a predictive model that answers the question: “what sorts of people were more likely to survive?” using passenger data (ie name, age, gender, socio-economic class, etc). "
   ]
  },
  {
   "cell_type": "raw",
   "id": "alien-professor",
   "metadata": {},
   "source": [
    "train data path: \"D:\\titanic\\train.csv\"\n",
    "test data path: \"D:\\titanic\\test.csv\"\n",
    "output path: \"D:\\titanic\\gender_submission.csv\""
   ]
  },
  {
   "cell_type": "code",
   "execution_count": 1,
   "id": "animal-clear",
   "metadata": {},
   "outputs": [],
   "source": [
    "import pandas as pd\n",
    "import numpy as np\n",
    "import os"
   ]
  },
  {
   "cell_type": "code",
   "execution_count": 2,
   "id": "impossible-tsunami",
   "metadata": {},
   "outputs": [],
   "source": [
    "DATA_PATH = os.path.join(\"D:\", \"titanic\")"
   ]
  },
  {
   "cell_type": "code",
   "execution_count": 3,
   "id": "alien-childhood",
   "metadata": {},
   "outputs": [],
   "source": [
    "train=pd.read_csv(os.path.join(DATA_PATH,'train.csv'))"
   ]
  },
  {
   "cell_type": "code",
   "execution_count": 4,
   "id": "acute-football",
   "metadata": {},
   "outputs": [
    {
     "data": {
      "text/html": [
       "<div>\n",
       "<style scoped>\n",
       "    .dataframe tbody tr th:only-of-type {\n",
       "        vertical-align: middle;\n",
       "    }\n",
       "\n",
       "    .dataframe tbody tr th {\n",
       "        vertical-align: top;\n",
       "    }\n",
       "\n",
       "    .dataframe thead th {\n",
       "        text-align: right;\n",
       "    }\n",
       "</style>\n",
       "<table border=\"1\" class=\"dataframe\">\n",
       "  <thead>\n",
       "    <tr style=\"text-align: right;\">\n",
       "      <th></th>\n",
       "      <th>PassengerId</th>\n",
       "      <th>Survived</th>\n",
       "      <th>Pclass</th>\n",
       "      <th>Name</th>\n",
       "      <th>Sex</th>\n",
       "      <th>Age</th>\n",
       "      <th>SibSp</th>\n",
       "      <th>Parch</th>\n",
       "      <th>Ticket</th>\n",
       "      <th>Fare</th>\n",
       "      <th>Cabin</th>\n",
       "      <th>Embarked</th>\n",
       "    </tr>\n",
       "  </thead>\n",
       "  <tbody>\n",
       "    <tr>\n",
       "      <th>0</th>\n",
       "      <td>1</td>\n",
       "      <td>0</td>\n",
       "      <td>3</td>\n",
       "      <td>Braund, Mr. Owen Harris</td>\n",
       "      <td>male</td>\n",
       "      <td>22.0</td>\n",
       "      <td>1</td>\n",
       "      <td>0</td>\n",
       "      <td>A/5 21171</td>\n",
       "      <td>7.2500</td>\n",
       "      <td>NaN</td>\n",
       "      <td>S</td>\n",
       "    </tr>\n",
       "    <tr>\n",
       "      <th>1</th>\n",
       "      <td>2</td>\n",
       "      <td>1</td>\n",
       "      <td>1</td>\n",
       "      <td>Cumings, Mrs. John Bradley (Florence Briggs Th...</td>\n",
       "      <td>female</td>\n",
       "      <td>38.0</td>\n",
       "      <td>1</td>\n",
       "      <td>0</td>\n",
       "      <td>PC 17599</td>\n",
       "      <td>71.2833</td>\n",
       "      <td>C85</td>\n",
       "      <td>C</td>\n",
       "    </tr>\n",
       "    <tr>\n",
       "      <th>2</th>\n",
       "      <td>3</td>\n",
       "      <td>1</td>\n",
       "      <td>3</td>\n",
       "      <td>Heikkinen, Miss. Laina</td>\n",
       "      <td>female</td>\n",
       "      <td>26.0</td>\n",
       "      <td>0</td>\n",
       "      <td>0</td>\n",
       "      <td>STON/O2. 3101282</td>\n",
       "      <td>7.9250</td>\n",
       "      <td>NaN</td>\n",
       "      <td>S</td>\n",
       "    </tr>\n",
       "    <tr>\n",
       "      <th>3</th>\n",
       "      <td>4</td>\n",
       "      <td>1</td>\n",
       "      <td>1</td>\n",
       "      <td>Futrelle, Mrs. Jacques Heath (Lily May Peel)</td>\n",
       "      <td>female</td>\n",
       "      <td>35.0</td>\n",
       "      <td>1</td>\n",
       "      <td>0</td>\n",
       "      <td>113803</td>\n",
       "      <td>53.1000</td>\n",
       "      <td>C123</td>\n",
       "      <td>S</td>\n",
       "    </tr>\n",
       "    <tr>\n",
       "      <th>4</th>\n",
       "      <td>5</td>\n",
       "      <td>0</td>\n",
       "      <td>3</td>\n",
       "      <td>Allen, Mr. William Henry</td>\n",
       "      <td>male</td>\n",
       "      <td>35.0</td>\n",
       "      <td>0</td>\n",
       "      <td>0</td>\n",
       "      <td>373450</td>\n",
       "      <td>8.0500</td>\n",
       "      <td>NaN</td>\n",
       "      <td>S</td>\n",
       "    </tr>\n",
       "  </tbody>\n",
       "</table>\n",
       "</div>"
      ],
      "text/plain": [
       "   PassengerId  Survived  Pclass  \\\n",
       "0            1         0       3   \n",
       "1            2         1       1   \n",
       "2            3         1       3   \n",
       "3            4         1       1   \n",
       "4            5         0       3   \n",
       "\n",
       "                                                Name     Sex   Age  SibSp  \\\n",
       "0                            Braund, Mr. Owen Harris    male  22.0      1   \n",
       "1  Cumings, Mrs. John Bradley (Florence Briggs Th...  female  38.0      1   \n",
       "2                             Heikkinen, Miss. Laina  female  26.0      0   \n",
       "3       Futrelle, Mrs. Jacques Heath (Lily May Peel)  female  35.0      1   \n",
       "4                           Allen, Mr. William Henry    male  35.0      0   \n",
       "\n",
       "   Parch            Ticket     Fare Cabin Embarked  \n",
       "0      0         A/5 21171   7.2500   NaN        S  \n",
       "1      0          PC 17599  71.2833   C85        C  \n",
       "2      0  STON/O2. 3101282   7.9250   NaN        S  \n",
       "3      0            113803  53.1000  C123        S  \n",
       "4      0            373450   8.0500   NaN        S  "
      ]
     },
     "execution_count": 4,
     "metadata": {},
     "output_type": "execute_result"
    }
   ],
   "source": [
    "train.head()"
   ]
  },
  {
   "cell_type": "code",
   "execution_count": 5,
   "id": "violent-attack",
   "metadata": {},
   "outputs": [],
   "source": [
    "test=pd.read_csv(os.path.join(DATA_PATH,'test.csv'))"
   ]
  },
  {
   "cell_type": "code",
   "execution_count": 6,
   "id": "suffering-cherry",
   "metadata": {
    "scrolled": false
   },
   "outputs": [
    {
     "data": {
      "text/html": [
       "<div>\n",
       "<style scoped>\n",
       "    .dataframe tbody tr th:only-of-type {\n",
       "        vertical-align: middle;\n",
       "    }\n",
       "\n",
       "    .dataframe tbody tr th {\n",
       "        vertical-align: top;\n",
       "    }\n",
       "\n",
       "    .dataframe thead th {\n",
       "        text-align: right;\n",
       "    }\n",
       "</style>\n",
       "<table border=\"1\" class=\"dataframe\">\n",
       "  <thead>\n",
       "    <tr style=\"text-align: right;\">\n",
       "      <th></th>\n",
       "      <th>PassengerId</th>\n",
       "      <th>Pclass</th>\n",
       "      <th>Name</th>\n",
       "      <th>Sex</th>\n",
       "      <th>Age</th>\n",
       "      <th>SibSp</th>\n",
       "      <th>Parch</th>\n",
       "      <th>Ticket</th>\n",
       "      <th>Fare</th>\n",
       "      <th>Cabin</th>\n",
       "      <th>Embarked</th>\n",
       "    </tr>\n",
       "  </thead>\n",
       "  <tbody>\n",
       "    <tr>\n",
       "      <th>0</th>\n",
       "      <td>892</td>\n",
       "      <td>3</td>\n",
       "      <td>Kelly, Mr. James</td>\n",
       "      <td>male</td>\n",
       "      <td>34.5</td>\n",
       "      <td>0</td>\n",
       "      <td>0</td>\n",
       "      <td>330911</td>\n",
       "      <td>7.8292</td>\n",
       "      <td>NaN</td>\n",
       "      <td>Q</td>\n",
       "    </tr>\n",
       "    <tr>\n",
       "      <th>1</th>\n",
       "      <td>893</td>\n",
       "      <td>3</td>\n",
       "      <td>Wilkes, Mrs. James (Ellen Needs)</td>\n",
       "      <td>female</td>\n",
       "      <td>47.0</td>\n",
       "      <td>1</td>\n",
       "      <td>0</td>\n",
       "      <td>363272</td>\n",
       "      <td>7.0000</td>\n",
       "      <td>NaN</td>\n",
       "      <td>S</td>\n",
       "    </tr>\n",
       "    <tr>\n",
       "      <th>2</th>\n",
       "      <td>894</td>\n",
       "      <td>2</td>\n",
       "      <td>Myles, Mr. Thomas Francis</td>\n",
       "      <td>male</td>\n",
       "      <td>62.0</td>\n",
       "      <td>0</td>\n",
       "      <td>0</td>\n",
       "      <td>240276</td>\n",
       "      <td>9.6875</td>\n",
       "      <td>NaN</td>\n",
       "      <td>Q</td>\n",
       "    </tr>\n",
       "    <tr>\n",
       "      <th>3</th>\n",
       "      <td>895</td>\n",
       "      <td>3</td>\n",
       "      <td>Wirz, Mr. Albert</td>\n",
       "      <td>male</td>\n",
       "      <td>27.0</td>\n",
       "      <td>0</td>\n",
       "      <td>0</td>\n",
       "      <td>315154</td>\n",
       "      <td>8.6625</td>\n",
       "      <td>NaN</td>\n",
       "      <td>S</td>\n",
       "    </tr>\n",
       "    <tr>\n",
       "      <th>4</th>\n",
       "      <td>896</td>\n",
       "      <td>3</td>\n",
       "      <td>Hirvonen, Mrs. Alexander (Helga E Lindqvist)</td>\n",
       "      <td>female</td>\n",
       "      <td>22.0</td>\n",
       "      <td>1</td>\n",
       "      <td>1</td>\n",
       "      <td>3101298</td>\n",
       "      <td>12.2875</td>\n",
       "      <td>NaN</td>\n",
       "      <td>S</td>\n",
       "    </tr>\n",
       "  </tbody>\n",
       "</table>\n",
       "</div>"
      ],
      "text/plain": [
       "   PassengerId  Pclass                                          Name     Sex  \\\n",
       "0          892       3                              Kelly, Mr. James    male   \n",
       "1          893       3              Wilkes, Mrs. James (Ellen Needs)  female   \n",
       "2          894       2                     Myles, Mr. Thomas Francis    male   \n",
       "3          895       3                              Wirz, Mr. Albert    male   \n",
       "4          896       3  Hirvonen, Mrs. Alexander (Helga E Lindqvist)  female   \n",
       "\n",
       "    Age  SibSp  Parch   Ticket     Fare Cabin Embarked  \n",
       "0  34.5      0      0   330911   7.8292   NaN        Q  \n",
       "1  47.0      1      0   363272   7.0000   NaN        S  \n",
       "2  62.0      0      0   240276   9.6875   NaN        Q  \n",
       "3  27.0      0      0   315154   8.6625   NaN        S  \n",
       "4  22.0      1      1  3101298  12.2875   NaN        S  "
      ]
     },
     "execution_count": 6,
     "metadata": {},
     "output_type": "execute_result"
    }
   ],
   "source": [
    "test.head()"
   ]
  },
  {
   "cell_type": "code",
   "execution_count": 7,
   "id": "rising-guess",
   "metadata": {
    "scrolled": true
   },
   "outputs": [
    {
     "data": {
      "text/html": [
       "<div>\n",
       "<style scoped>\n",
       "    .dataframe tbody tr th:only-of-type {\n",
       "        vertical-align: middle;\n",
       "    }\n",
       "\n",
       "    .dataframe tbody tr th {\n",
       "        vertical-align: top;\n",
       "    }\n",
       "\n",
       "    .dataframe thead th {\n",
       "        text-align: right;\n",
       "    }\n",
       "</style>\n",
       "<table border=\"1\" class=\"dataframe\">\n",
       "  <thead>\n",
       "    <tr style=\"text-align: right;\">\n",
       "      <th></th>\n",
       "      <th>PassengerId</th>\n",
       "      <th>Survived</th>\n",
       "      <th>Pclass</th>\n",
       "      <th>Age</th>\n",
       "      <th>SibSp</th>\n",
       "      <th>Parch</th>\n",
       "      <th>Fare</th>\n",
       "    </tr>\n",
       "  </thead>\n",
       "  <tbody>\n",
       "    <tr>\n",
       "      <th>count</th>\n",
       "      <td>891.000000</td>\n",
       "      <td>891.000000</td>\n",
       "      <td>891.000000</td>\n",
       "      <td>714.000000</td>\n",
       "      <td>891.000000</td>\n",
       "      <td>891.000000</td>\n",
       "      <td>891.000000</td>\n",
       "    </tr>\n",
       "    <tr>\n",
       "      <th>mean</th>\n",
       "      <td>446.000000</td>\n",
       "      <td>0.383838</td>\n",
       "      <td>2.308642</td>\n",
       "      <td>29.699118</td>\n",
       "      <td>0.523008</td>\n",
       "      <td>0.381594</td>\n",
       "      <td>32.204208</td>\n",
       "    </tr>\n",
       "    <tr>\n",
       "      <th>std</th>\n",
       "      <td>257.353842</td>\n",
       "      <td>0.486592</td>\n",
       "      <td>0.836071</td>\n",
       "      <td>14.526497</td>\n",
       "      <td>1.102743</td>\n",
       "      <td>0.806057</td>\n",
       "      <td>49.693429</td>\n",
       "    </tr>\n",
       "    <tr>\n",
       "      <th>min</th>\n",
       "      <td>1.000000</td>\n",
       "      <td>0.000000</td>\n",
       "      <td>1.000000</td>\n",
       "      <td>0.420000</td>\n",
       "      <td>0.000000</td>\n",
       "      <td>0.000000</td>\n",
       "      <td>0.000000</td>\n",
       "    </tr>\n",
       "    <tr>\n",
       "      <th>25%</th>\n",
       "      <td>223.500000</td>\n",
       "      <td>0.000000</td>\n",
       "      <td>2.000000</td>\n",
       "      <td>20.125000</td>\n",
       "      <td>0.000000</td>\n",
       "      <td>0.000000</td>\n",
       "      <td>7.910400</td>\n",
       "    </tr>\n",
       "    <tr>\n",
       "      <th>50%</th>\n",
       "      <td>446.000000</td>\n",
       "      <td>0.000000</td>\n",
       "      <td>3.000000</td>\n",
       "      <td>28.000000</td>\n",
       "      <td>0.000000</td>\n",
       "      <td>0.000000</td>\n",
       "      <td>14.454200</td>\n",
       "    </tr>\n",
       "    <tr>\n",
       "      <th>75%</th>\n",
       "      <td>668.500000</td>\n",
       "      <td>1.000000</td>\n",
       "      <td>3.000000</td>\n",
       "      <td>38.000000</td>\n",
       "      <td>1.000000</td>\n",
       "      <td>0.000000</td>\n",
       "      <td>31.000000</td>\n",
       "    </tr>\n",
       "    <tr>\n",
       "      <th>max</th>\n",
       "      <td>891.000000</td>\n",
       "      <td>1.000000</td>\n",
       "      <td>3.000000</td>\n",
       "      <td>80.000000</td>\n",
       "      <td>8.000000</td>\n",
       "      <td>6.000000</td>\n",
       "      <td>512.329200</td>\n",
       "    </tr>\n",
       "  </tbody>\n",
       "</table>\n",
       "</div>"
      ],
      "text/plain": [
       "       PassengerId    Survived      Pclass         Age       SibSp  \\\n",
       "count   891.000000  891.000000  891.000000  714.000000  891.000000   \n",
       "mean    446.000000    0.383838    2.308642   29.699118    0.523008   \n",
       "std     257.353842    0.486592    0.836071   14.526497    1.102743   \n",
       "min       1.000000    0.000000    1.000000    0.420000    0.000000   \n",
       "25%     223.500000    0.000000    2.000000   20.125000    0.000000   \n",
       "50%     446.000000    0.000000    3.000000   28.000000    0.000000   \n",
       "75%     668.500000    1.000000    3.000000   38.000000    1.000000   \n",
       "max     891.000000    1.000000    3.000000   80.000000    8.000000   \n",
       "\n",
       "            Parch        Fare  \n",
       "count  891.000000  891.000000  \n",
       "mean     0.381594   32.204208  \n",
       "std      0.806057   49.693429  \n",
       "min      0.000000    0.000000  \n",
       "25%      0.000000    7.910400  \n",
       "50%      0.000000   14.454200  \n",
       "75%      0.000000   31.000000  \n",
       "max      6.000000  512.329200  "
      ]
     },
     "execution_count": 7,
     "metadata": {},
     "output_type": "execute_result"
    }
   ],
   "source": [
    "train.describe()"
   ]
  },
  {
   "cell_type": "markdown",
   "id": "technological-shark",
   "metadata": {},
   "source": [
    "## Features Selection"
   ]
  },
  {
   "cell_type": "markdown",
   "id": "treated-shopping",
   "metadata": {},
   "source": [
    "Women and children first: sex and age data may be the most important. \n",
    "\n",
    "quite a lot of age data is missing."
   ]
  },
  {
   "cell_type": "code",
   "execution_count": 8,
   "id": "roman-amino",
   "metadata": {},
   "outputs": [],
   "source": [
    "train['Child']=(train['Age']<10).replace({True: 1, False: 0})"
   ]
  },
  {
   "cell_type": "code",
   "execution_count": 9,
   "id": "attempted-activation",
   "metadata": {},
   "outputs": [
    {
     "data": {
      "text/plain": [
       "0    829\n",
       "1     62\n",
       "Name: Child, dtype: int64"
      ]
     },
     "execution_count": 9,
     "metadata": {},
     "output_type": "execute_result"
    }
   ],
   "source": [
    "train['Child'].value_counts()"
   ]
  },
  {
   "cell_type": "code",
   "execution_count": 10,
   "id": "modern-comparative",
   "metadata": {
    "scrolled": true
   },
   "outputs": [
    {
     "data": {
      "text/plain": [
       "PassengerId   -0.005007\n",
       "Survived       1.000000\n",
       "Pclass        -0.338481\n",
       "Age           -0.077221\n",
       "SibSp         -0.035322\n",
       "Parch          0.081629\n",
       "Fare           0.257307\n",
       "Child          0.128812\n",
       "Name: Survived, dtype: float64"
      ]
     },
     "execution_count": 10,
     "metadata": {},
     "output_type": "execute_result"
    }
   ],
   "source": [
    "train.corr()['Survived']"
   ]
  },
  {
   "cell_type": "markdown",
   "id": "union-october",
   "metadata": {},
   "source": [
    "hmm. Age seems to not be correlated to survival. Being a child is weakly correlated with survival. We will see about gender after encoding it. \n",
    "\n",
    "May we be able to predict age or age category based on Fare, Embarked, and PClass?"
   ]
  },
  {
   "cell_type": "code",
   "execution_count": 11,
   "id": "contemporary-cardiff",
   "metadata": {},
   "outputs": [],
   "source": [
    "train['Age_cat']=pd.cut(train['Age'],[0,2,5,10,55,99],labels=['infant','baby','child','adult','elderly'])"
   ]
  },
  {
   "cell_type": "code",
   "execution_count": 12,
   "id": "indie-thailand",
   "metadata": {
    "scrolled": true
   },
   "outputs": [
    {
     "data": {
      "text/html": [
       "<div>\n",
       "<style scoped>\n",
       "    .dataframe tbody tr th:only-of-type {\n",
       "        vertical-align: middle;\n",
       "    }\n",
       "\n",
       "    .dataframe tbody tr th {\n",
       "        vertical-align: top;\n",
       "    }\n",
       "\n",
       "    .dataframe thead tr th {\n",
       "        text-align: left;\n",
       "    }\n",
       "\n",
       "    .dataframe thead tr:last-of-type th {\n",
       "        text-align: right;\n",
       "    }\n",
       "</style>\n",
       "<table border=\"1\" class=\"dataframe\">\n",
       "  <thead>\n",
       "    <tr>\n",
       "      <th></th>\n",
       "      <th></th>\n",
       "      <th></th>\n",
       "      <th colspan=\"8\" halign=\"left\">Fare</th>\n",
       "    </tr>\n",
       "    <tr>\n",
       "      <th></th>\n",
       "      <th></th>\n",
       "      <th></th>\n",
       "      <th>count</th>\n",
       "      <th>mean</th>\n",
       "      <th>std</th>\n",
       "      <th>min</th>\n",
       "      <th>25%</th>\n",
       "      <th>50%</th>\n",
       "      <th>75%</th>\n",
       "      <th>max</th>\n",
       "    </tr>\n",
       "    <tr>\n",
       "      <th>Embarked</th>\n",
       "      <th>Pclass</th>\n",
       "      <th>Age_cat</th>\n",
       "      <th></th>\n",
       "      <th></th>\n",
       "      <th></th>\n",
       "      <th></th>\n",
       "      <th></th>\n",
       "      <th></th>\n",
       "      <th></th>\n",
       "      <th></th>\n",
       "    </tr>\n",
       "  </thead>\n",
       "  <tbody>\n",
       "    <tr>\n",
       "      <th rowspan=\"9\" valign=\"top\">C</th>\n",
       "      <th rowspan=\"2\" valign=\"top\">1</th>\n",
       "      <th>adult</th>\n",
       "      <td>63.0</td>\n",
       "      <td>115.409460</td>\n",
       "      <td>109.447555</td>\n",
       "      <td>26.5500</td>\n",
       "      <td>56.929200</td>\n",
       "      <td>79.2000</td>\n",
       "      <td>113.275000</td>\n",
       "      <td>512.3292</td>\n",
       "    </tr>\n",
       "    <tr>\n",
       "      <th>elderly</th>\n",
       "      <td>11.0</td>\n",
       "      <td>67.221591</td>\n",
       "      <td>37.445271</td>\n",
       "      <td>29.7000</td>\n",
       "      <td>35.077100</td>\n",
       "      <td>61.9792</td>\n",
       "      <td>81.179150</td>\n",
       "      <td>146.5208</td>\n",
       "    </tr>\n",
       "    <tr>\n",
       "      <th rowspan=\"3\" valign=\"top\">2</th>\n",
       "      <th>infant</th>\n",
       "      <td>1.0</td>\n",
       "      <td>37.004200</td>\n",
       "      <td>NaN</td>\n",
       "      <td>37.0042</td>\n",
       "      <td>37.004200</td>\n",
       "      <td>37.0042</td>\n",
       "      <td>37.004200</td>\n",
       "      <td>37.0042</td>\n",
       "    </tr>\n",
       "    <tr>\n",
       "      <th>baby</th>\n",
       "      <td>1.0</td>\n",
       "      <td>41.579200</td>\n",
       "      <td>NaN</td>\n",
       "      <td>41.5792</td>\n",
       "      <td>41.579200</td>\n",
       "      <td>41.5792</td>\n",
       "      <td>41.579200</td>\n",
       "      <td>41.5792</td>\n",
       "    </tr>\n",
       "    <tr>\n",
       "      <th>adult</th>\n",
       "      <td>13.0</td>\n",
       "      <td>24.891985</td>\n",
       "      <td>10.875748</td>\n",
       "      <td>12.0000</td>\n",
       "      <td>13.858300</td>\n",
       "      <td>24.0000</td>\n",
       "      <td>30.070800</td>\n",
       "      <td>41.5792</td>\n",
       "    </tr>\n",
       "    <tr>\n",
       "      <th rowspan=\"4\" valign=\"top\">3</th>\n",
       "      <th>infant</th>\n",
       "      <td>4.0</td>\n",
       "      <td>15.693750</td>\n",
       "      <td>5.063740</td>\n",
       "      <td>8.5167</td>\n",
       "      <td>13.935450</td>\n",
       "      <td>17.5000</td>\n",
       "      <td>19.258300</td>\n",
       "      <td>19.2583</td>\n",
       "    </tr>\n",
       "    <tr>\n",
       "      <th>baby</th>\n",
       "      <td>2.0</td>\n",
       "      <td>16.337500</td>\n",
       "      <td>4.130635</td>\n",
       "      <td>13.4167</td>\n",
       "      <td>14.877100</td>\n",
       "      <td>16.3375</td>\n",
       "      <td>17.797900</td>\n",
       "      <td>19.2583</td>\n",
       "    </tr>\n",
       "    <tr>\n",
       "      <th>child</th>\n",
       "      <td>1.0</td>\n",
       "      <td>15.245800</td>\n",
       "      <td>NaN</td>\n",
       "      <td>15.2458</td>\n",
       "      <td>15.245800</td>\n",
       "      <td>15.2458</td>\n",
       "      <td>15.245800</td>\n",
       "      <td>15.2458</td>\n",
       "    </tr>\n",
       "    <tr>\n",
       "      <th>adult</th>\n",
       "      <td>34.0</td>\n",
       "      <td>10.455035</td>\n",
       "      <td>4.288241</td>\n",
       "      <td>4.0125</td>\n",
       "      <td>7.229200</td>\n",
       "      <td>7.8958</td>\n",
       "      <td>14.454200</td>\n",
       "      <td>19.2583</td>\n",
       "    </tr>\n",
       "    <tr>\n",
       "      <th rowspan=\"8\" valign=\"top\">Q</th>\n",
       "      <th>1</th>\n",
       "      <th>adult</th>\n",
       "      <td>2.0</td>\n",
       "      <td>90.000000</td>\n",
       "      <td>0.000000</td>\n",
       "      <td>90.0000</td>\n",
       "      <td>90.000000</td>\n",
       "      <td>90.0000</td>\n",
       "      <td>90.000000</td>\n",
       "      <td>90.0000</td>\n",
       "    </tr>\n",
       "    <tr>\n",
       "      <th rowspan=\"2\" valign=\"top\">2</th>\n",
       "      <th>adult</th>\n",
       "      <td>1.0</td>\n",
       "      <td>12.350000</td>\n",
       "      <td>NaN</td>\n",
       "      <td>12.3500</td>\n",
       "      <td>12.350000</td>\n",
       "      <td>12.3500</td>\n",
       "      <td>12.350000</td>\n",
       "      <td>12.3500</td>\n",
       "    </tr>\n",
       "    <tr>\n",
       "      <th>elderly</th>\n",
       "      <td>1.0</td>\n",
       "      <td>12.350000</td>\n",
       "      <td>NaN</td>\n",
       "      <td>12.3500</td>\n",
       "      <td>12.350000</td>\n",
       "      <td>12.3500</td>\n",
       "      <td>12.350000</td>\n",
       "      <td>12.3500</td>\n",
       "    </tr>\n",
       "    <tr>\n",
       "      <th rowspan=\"5\" valign=\"top\">3</th>\n",
       "      <th>infant</th>\n",
       "      <td>1.0</td>\n",
       "      <td>29.125000</td>\n",
       "      <td>NaN</td>\n",
       "      <td>29.1250</td>\n",
       "      <td>29.125000</td>\n",
       "      <td>29.1250</td>\n",
       "      <td>29.125000</td>\n",
       "      <td>29.1250</td>\n",
       "    </tr>\n",
       "    <tr>\n",
       "      <th>baby</th>\n",
       "      <td>1.0</td>\n",
       "      <td>29.125000</td>\n",
       "      <td>NaN</td>\n",
       "      <td>29.1250</td>\n",
       "      <td>29.125000</td>\n",
       "      <td>29.1250</td>\n",
       "      <td>29.125000</td>\n",
       "      <td>29.1250</td>\n",
       "    </tr>\n",
       "    <tr>\n",
       "      <th>child</th>\n",
       "      <td>2.0</td>\n",
       "      <td>29.125000</td>\n",
       "      <td>0.000000</td>\n",
       "      <td>29.1250</td>\n",
       "      <td>29.125000</td>\n",
       "      <td>29.1250</td>\n",
       "      <td>29.125000</td>\n",
       "      <td>29.1250</td>\n",
       "    </tr>\n",
       "    <tr>\n",
       "      <th>adult</th>\n",
       "      <td>18.0</td>\n",
       "      <td>9.707872</td>\n",
       "      <td>5.477828</td>\n",
       "      <td>6.7500</td>\n",
       "      <td>7.743775</td>\n",
       "      <td>7.7500</td>\n",
       "      <td>7.846900</td>\n",
       "      <td>29.1250</td>\n",
       "    </tr>\n",
       "    <tr>\n",
       "      <th>elderly</th>\n",
       "      <td>2.0</td>\n",
       "      <td>7.750000</td>\n",
       "      <td>0.000000</td>\n",
       "      <td>7.7500</td>\n",
       "      <td>7.750000</td>\n",
       "      <td>7.7500</td>\n",
       "      <td>7.750000</td>\n",
       "      <td>7.7500</td>\n",
       "    </tr>\n",
       "    <tr>\n",
       "      <th rowspan=\"14\" valign=\"top\">S</th>\n",
       "      <th rowspan=\"4\" valign=\"top\">1</th>\n",
       "      <th>infant</th>\n",
       "      <td>2.0</td>\n",
       "      <td>151.550000</td>\n",
       "      <td>0.000000</td>\n",
       "      <td>151.5500</td>\n",
       "      <td>151.550000</td>\n",
       "      <td>151.5500</td>\n",
       "      <td>151.550000</td>\n",
       "      <td>151.5500</td>\n",
       "    </tr>\n",
       "    <tr>\n",
       "      <th>baby</th>\n",
       "      <td>1.0</td>\n",
       "      <td>81.858300</td>\n",
       "      <td>NaN</td>\n",
       "      <td>81.8583</td>\n",
       "      <td>81.858300</td>\n",
       "      <td>81.8583</td>\n",
       "      <td>81.858300</td>\n",
       "      <td>81.8583</td>\n",
       "    </tr>\n",
       "    <tr>\n",
       "      <th>adult</th>\n",
       "      <td>91.0</td>\n",
       "      <td>74.495834</td>\n",
       "      <td>58.180095</td>\n",
       "      <td>0.0000</td>\n",
       "      <td>30.500000</td>\n",
       "      <td>53.1000</td>\n",
       "      <td>86.500000</td>\n",
       "      <td>263.0000</td>\n",
       "    </tr>\n",
       "    <tr>\n",
       "      <th>elderly</th>\n",
       "      <td>14.0</td>\n",
       "      <td>60.467257</td>\n",
       "      <td>68.288126</td>\n",
       "      <td>26.0000</td>\n",
       "      <td>26.550000</td>\n",
       "      <td>28.2750</td>\n",
       "      <td>61.625000</td>\n",
       "      <td>263.0000</td>\n",
       "    </tr>\n",
       "    <tr>\n",
       "      <th rowspan=\"5\" valign=\"top\">2</th>\n",
       "      <th>infant</th>\n",
       "      <td>6.0</td>\n",
       "      <td>25.541667</td>\n",
       "      <td>8.503553</td>\n",
       "      <td>14.5000</td>\n",
       "      <td>20.562500</td>\n",
       "      <td>26.0000</td>\n",
       "      <td>28.250000</td>\n",
       "      <td>39.0000</td>\n",
       "    </tr>\n",
       "    <tr>\n",
       "      <th>baby</th>\n",
       "      <td>5.0</td>\n",
       "      <td>26.900000</td>\n",
       "      <td>7.575866</td>\n",
       "      <td>18.7500</td>\n",
       "      <td>23.000000</td>\n",
       "      <td>26.0000</td>\n",
       "      <td>27.750000</td>\n",
       "      <td>39.0000</td>\n",
       "    </tr>\n",
       "    <tr>\n",
       "      <th>child</th>\n",
       "      <td>4.0</td>\n",
       "      <td>30.562500</td>\n",
       "      <td>5.209666</td>\n",
       "      <td>26.2500</td>\n",
       "      <td>26.250000</td>\n",
       "      <td>29.6250</td>\n",
       "      <td>33.937500</td>\n",
       "      <td>36.7500</td>\n",
       "    </tr>\n",
       "    <tr>\n",
       "      <th>adult</th>\n",
       "      <td>135.0</td>\n",
       "      <td>20.616296</td>\n",
       "      <td>13.748232</td>\n",
       "      <td>10.5000</td>\n",
       "      <td>13.000000</td>\n",
       "      <td>13.0000</td>\n",
       "      <td>26.000000</td>\n",
       "      <td>73.5000</td>\n",
       "    </tr>\n",
       "    <tr>\n",
       "      <th>elderly</th>\n",
       "      <td>6.0</td>\n",
       "      <td>15.750000</td>\n",
       "      <td>11.453166</td>\n",
       "      <td>10.5000</td>\n",
       "      <td>10.500000</td>\n",
       "      <td>10.5000</td>\n",
       "      <td>12.750000</td>\n",
       "      <td>39.0000</td>\n",
       "    </tr>\n",
       "    <tr>\n",
       "      <th rowspan=\"5\" valign=\"top\">3</th>\n",
       "      <th>infant</th>\n",
       "      <td>10.0</td>\n",
       "      <td>26.098330</td>\n",
       "      <td>13.110623</td>\n",
       "      <td>10.4625</td>\n",
       "      <td>14.359375</td>\n",
       "      <td>24.4875</td>\n",
       "      <td>37.584375</td>\n",
       "      <td>46.9000</td>\n",
       "    </tr>\n",
       "    <tr>\n",
       "      <th>baby</th>\n",
       "      <td>10.0</td>\n",
       "      <td>22.125830</td>\n",
       "      <td>7.971440</td>\n",
       "      <td>11.1333</td>\n",
       "      <td>16.100000</td>\n",
       "      <td>21.5500</td>\n",
       "      <td>30.431250</td>\n",
       "      <td>31.3875</td>\n",
       "    </tr>\n",
       "    <tr>\n",
       "      <th>child</th>\n",
       "      <td>13.0</td>\n",
       "      <td>28.063462</td>\n",
       "      <td>9.457941</td>\n",
       "      <td>12.4750</td>\n",
       "      <td>21.075000</td>\n",
       "      <td>27.9000</td>\n",
       "      <td>31.387500</td>\n",
       "      <td>46.9000</td>\n",
       "    </tr>\n",
       "    <tr>\n",
       "      <th>adult</th>\n",
       "      <td>252.0</td>\n",
       "      <td>12.053866</td>\n",
       "      <td>9.755726</td>\n",
       "      <td>0.0000</td>\n",
       "      <td>7.795800</td>\n",
       "      <td>8.0500</td>\n",
       "      <td>9.927050</td>\n",
       "      <td>56.4958</td>\n",
       "    </tr>\n",
       "    <tr>\n",
       "      <th>elderly</th>\n",
       "      <td>5.0</td>\n",
       "      <td>7.780000</td>\n",
       "      <td>1.224764</td>\n",
       "      <td>6.2375</td>\n",
       "      <td>7.250000</td>\n",
       "      <td>7.7750</td>\n",
       "      <td>8.050000</td>\n",
       "      <td>9.5875</td>\n",
       "    </tr>\n",
       "  </tbody>\n",
       "</table>\n",
       "</div>"
      ],
      "text/plain": [
       "                          Fare                                                \\\n",
       "                         count        mean         std       min         25%   \n",
       "Embarked Pclass Age_cat                                                        \n",
       "C        1      adult     63.0  115.409460  109.447555   26.5500   56.929200   \n",
       "                elderly   11.0   67.221591   37.445271   29.7000   35.077100   \n",
       "         2      infant     1.0   37.004200         NaN   37.0042   37.004200   \n",
       "                baby       1.0   41.579200         NaN   41.5792   41.579200   \n",
       "                adult     13.0   24.891985   10.875748   12.0000   13.858300   \n",
       "         3      infant     4.0   15.693750    5.063740    8.5167   13.935450   \n",
       "                baby       2.0   16.337500    4.130635   13.4167   14.877100   \n",
       "                child      1.0   15.245800         NaN   15.2458   15.245800   \n",
       "                adult     34.0   10.455035    4.288241    4.0125    7.229200   \n",
       "Q        1      adult      2.0   90.000000    0.000000   90.0000   90.000000   \n",
       "         2      adult      1.0   12.350000         NaN   12.3500   12.350000   \n",
       "                elderly    1.0   12.350000         NaN   12.3500   12.350000   \n",
       "         3      infant     1.0   29.125000         NaN   29.1250   29.125000   \n",
       "                baby       1.0   29.125000         NaN   29.1250   29.125000   \n",
       "                child      2.0   29.125000    0.000000   29.1250   29.125000   \n",
       "                adult     18.0    9.707872    5.477828    6.7500    7.743775   \n",
       "                elderly    2.0    7.750000    0.000000    7.7500    7.750000   \n",
       "S        1      infant     2.0  151.550000    0.000000  151.5500  151.550000   \n",
       "                baby       1.0   81.858300         NaN   81.8583   81.858300   \n",
       "                adult     91.0   74.495834   58.180095    0.0000   30.500000   \n",
       "                elderly   14.0   60.467257   68.288126   26.0000   26.550000   \n",
       "         2      infant     6.0   25.541667    8.503553   14.5000   20.562500   \n",
       "                baby       5.0   26.900000    7.575866   18.7500   23.000000   \n",
       "                child      4.0   30.562500    5.209666   26.2500   26.250000   \n",
       "                adult    135.0   20.616296   13.748232   10.5000   13.000000   \n",
       "                elderly    6.0   15.750000   11.453166   10.5000   10.500000   \n",
       "         3      infant    10.0   26.098330   13.110623   10.4625   14.359375   \n",
       "                baby      10.0   22.125830    7.971440   11.1333   16.100000   \n",
       "                child     13.0   28.063462    9.457941   12.4750   21.075000   \n",
       "                adult    252.0   12.053866    9.755726    0.0000    7.795800   \n",
       "                elderly    5.0    7.780000    1.224764    6.2375    7.250000   \n",
       "\n",
       "                                                         \n",
       "                              50%         75%       max  \n",
       "Embarked Pclass Age_cat                                  \n",
       "C        1      adult     79.2000  113.275000  512.3292  \n",
       "                elderly   61.9792   81.179150  146.5208  \n",
       "         2      infant    37.0042   37.004200   37.0042  \n",
       "                baby      41.5792   41.579200   41.5792  \n",
       "                adult     24.0000   30.070800   41.5792  \n",
       "         3      infant    17.5000   19.258300   19.2583  \n",
       "                baby      16.3375   17.797900   19.2583  \n",
       "                child     15.2458   15.245800   15.2458  \n",
       "                adult      7.8958   14.454200   19.2583  \n",
       "Q        1      adult     90.0000   90.000000   90.0000  \n",
       "         2      adult     12.3500   12.350000   12.3500  \n",
       "                elderly   12.3500   12.350000   12.3500  \n",
       "         3      infant    29.1250   29.125000   29.1250  \n",
       "                baby      29.1250   29.125000   29.1250  \n",
       "                child     29.1250   29.125000   29.1250  \n",
       "                adult      7.7500    7.846900   29.1250  \n",
       "                elderly    7.7500    7.750000    7.7500  \n",
       "S        1      infant   151.5500  151.550000  151.5500  \n",
       "                baby      81.8583   81.858300   81.8583  \n",
       "                adult     53.1000   86.500000  263.0000  \n",
       "                elderly   28.2750   61.625000  263.0000  \n",
       "         2      infant    26.0000   28.250000   39.0000  \n",
       "                baby      26.0000   27.750000   39.0000  \n",
       "                child     29.6250   33.937500   36.7500  \n",
       "                adult     13.0000   26.000000   73.5000  \n",
       "                elderly   10.5000   12.750000   39.0000  \n",
       "         3      infant    24.4875   37.584375   46.9000  \n",
       "                baby      21.5500   30.431250   31.3875  \n",
       "                child     27.9000   31.387500   46.9000  \n",
       "                adult      8.0500    9.927050   56.4958  \n",
       "                elderly    7.7750    8.050000    9.5875  "
      ]
     },
     "execution_count": 12,
     "metadata": {},
     "output_type": "execute_result"
    }
   ],
   "source": [
    "train[['Fare','Embarked','Pclass','Age_cat']].groupby(['Embarked','Pclass','Age_cat']).describe()"
   ]
  },
  {
   "cell_type": "markdown",
   "id": "veterinary-wilson",
   "metadata": {},
   "source": [
    "Fare does not seem to vary predictibly with age. Missing Age data will be difficult to predict with the Fare, Embarked, and Pclass information."
   ]
  },
  {
   "cell_type": "markdown",
   "id": "historic-channels",
   "metadata": {},
   "source": [
    "The names seem to have master for boys under a certain age. "
   ]
  },
  {
   "cell_type": "code",
   "execution_count": 13,
   "id": "complex-dakota",
   "metadata": {},
   "outputs": [],
   "source": [
    "#train[train['Age'].isna()][train['Name'].str.contains('Master')].describe()\n",
    "# we can add 4 more to child\n",
    "train['Child']=((train['Age']<10) | (train['Age'].isna() & train['Name'].str.contains('Master') )).replace({True: 1, False: 0})"
   ]
  },
  {
   "cell_type": "code",
   "execution_count": 14,
   "id": "administrative-mumbai",
   "metadata": {},
   "outputs": [
    {
     "data": {
      "text/plain": [
       "0    825\n",
       "1     66\n",
       "Name: Child, dtype: int64"
      ]
     },
     "execution_count": 14,
     "metadata": {},
     "output_type": "execute_result"
    }
   ],
   "source": [
    "train['Child'].value_counts()"
   ]
  },
  {
   "cell_type": "code",
   "execution_count": 15,
   "id": "joint-mambo",
   "metadata": {},
   "outputs": [
    {
     "data": {
      "text/plain": [
       "count    146.000000\n",
       "mean      21.773973\n",
       "std       12.990292\n",
       "min        0.750000\n",
       "25%       14.125000\n",
       "50%       21.000000\n",
       "75%       30.000000\n",
       "max       63.000000\n",
       "Name: Age, dtype: float64"
      ]
     },
     "execution_count": 15,
     "metadata": {},
     "output_type": "execute_result"
    }
   ],
   "source": [
    "train[train['Name'].str.contains('Miss')]['Age'].describe()\n",
    "# Miss is not informative of age"
   ]
  },
  {
   "cell_type": "code",
   "execution_count": 16,
   "id": "proof-wayne",
   "metadata": {},
   "outputs": [
    {
     "data": {
      "text/html": [
       "<div>\n",
       "<style scoped>\n",
       "    .dataframe tbody tr th:only-of-type {\n",
       "        vertical-align: middle;\n",
       "    }\n",
       "\n",
       "    .dataframe tbody tr th {\n",
       "        vertical-align: top;\n",
       "    }\n",
       "\n",
       "    .dataframe thead th {\n",
       "        text-align: right;\n",
       "    }\n",
       "</style>\n",
       "<table border=\"1\" class=\"dataframe\">\n",
       "  <thead>\n",
       "    <tr style=\"text-align: right;\">\n",
       "      <th></th>\n",
       "      <th>PassengerId</th>\n",
       "      <th>Survived</th>\n",
       "      <th>Pclass</th>\n",
       "      <th>Name</th>\n",
       "      <th>Sex</th>\n",
       "      <th>Age</th>\n",
       "      <th>SibSp</th>\n",
       "      <th>Parch</th>\n",
       "      <th>Ticket</th>\n",
       "      <th>Fare</th>\n",
       "      <th>Cabin</th>\n",
       "      <th>Embarked</th>\n",
       "      <th>Child</th>\n",
       "      <th>Age_cat</th>\n",
       "    </tr>\n",
       "  </thead>\n",
       "  <tbody>\n",
       "    <tr>\n",
       "      <th>504</th>\n",
       "      <td>505</td>\n",
       "      <td>1</td>\n",
       "      <td>1</td>\n",
       "      <td>Maioni, Miss. Roberta</td>\n",
       "      <td>female</td>\n",
       "      <td>16.0</td>\n",
       "      <td>0</td>\n",
       "      <td>0</td>\n",
       "      <td>110152</td>\n",
       "      <td>86.500</td>\n",
       "      <td>B79</td>\n",
       "      <td>S</td>\n",
       "      <td>0</td>\n",
       "      <td>adult</td>\n",
       "    </tr>\n",
       "    <tr>\n",
       "      <th>257</th>\n",
       "      <td>258</td>\n",
       "      <td>1</td>\n",
       "      <td>1</td>\n",
       "      <td>Cherry, Miss. Gladys</td>\n",
       "      <td>female</td>\n",
       "      <td>30.0</td>\n",
       "      <td>0</td>\n",
       "      <td>0</td>\n",
       "      <td>110152</td>\n",
       "      <td>86.500</td>\n",
       "      <td>B77</td>\n",
       "      <td>S</td>\n",
       "      <td>0</td>\n",
       "      <td>adult</td>\n",
       "    </tr>\n",
       "    <tr>\n",
       "      <th>759</th>\n",
       "      <td>760</td>\n",
       "      <td>1</td>\n",
       "      <td>1</td>\n",
       "      <td>Rothes, the Countess. of (Lucy Noel Martha Dye...</td>\n",
       "      <td>female</td>\n",
       "      <td>33.0</td>\n",
       "      <td>0</td>\n",
       "      <td>0</td>\n",
       "      <td>110152</td>\n",
       "      <td>86.500</td>\n",
       "      <td>B77</td>\n",
       "      <td>S</td>\n",
       "      <td>0</td>\n",
       "      <td>adult</td>\n",
       "    </tr>\n",
       "    <tr>\n",
       "      <th>262</th>\n",
       "      <td>263</td>\n",
       "      <td>0</td>\n",
       "      <td>1</td>\n",
       "      <td>Taussig, Mr. Emil</td>\n",
       "      <td>male</td>\n",
       "      <td>52.0</td>\n",
       "      <td>1</td>\n",
       "      <td>1</td>\n",
       "      <td>110413</td>\n",
       "      <td>79.650</td>\n",
       "      <td>E67</td>\n",
       "      <td>S</td>\n",
       "      <td>0</td>\n",
       "      <td>adult</td>\n",
       "    </tr>\n",
       "    <tr>\n",
       "      <th>558</th>\n",
       "      <td>559</td>\n",
       "      <td>1</td>\n",
       "      <td>1</td>\n",
       "      <td>Taussig, Mrs. Emil (Tillie Mandelbaum)</td>\n",
       "      <td>female</td>\n",
       "      <td>39.0</td>\n",
       "      <td>1</td>\n",
       "      <td>1</td>\n",
       "      <td>110413</td>\n",
       "      <td>79.650</td>\n",
       "      <td>E67</td>\n",
       "      <td>S</td>\n",
       "      <td>0</td>\n",
       "      <td>adult</td>\n",
       "    </tr>\n",
       "    <tr>\n",
       "      <th>...</th>\n",
       "      <td>...</td>\n",
       "      <td>...</td>\n",
       "      <td>...</td>\n",
       "      <td>...</td>\n",
       "      <td>...</td>\n",
       "      <td>...</td>\n",
       "      <td>...</td>\n",
       "      <td>...</td>\n",
       "      <td>...</td>\n",
       "      <td>...</td>\n",
       "      <td>...</td>\n",
       "      <td>...</td>\n",
       "      <td>...</td>\n",
       "      <td>...</td>\n",
       "    </tr>\n",
       "    <tr>\n",
       "      <th>235</th>\n",
       "      <td>236</td>\n",
       "      <td>0</td>\n",
       "      <td>3</td>\n",
       "      <td>Harknett, Miss. Alice Phoebe</td>\n",
       "      <td>female</td>\n",
       "      <td>NaN</td>\n",
       "      <td>0</td>\n",
       "      <td>0</td>\n",
       "      <td>W./C. 6609</td>\n",
       "      <td>7.550</td>\n",
       "      <td>NaN</td>\n",
       "      <td>S</td>\n",
       "      <td>0</td>\n",
       "      <td>NaN</td>\n",
       "    </tr>\n",
       "    <tr>\n",
       "      <th>92</th>\n",
       "      <td>93</td>\n",
       "      <td>0</td>\n",
       "      <td>1</td>\n",
       "      <td>Chaffee, Mr. Herbert Fuller</td>\n",
       "      <td>male</td>\n",
       "      <td>46.0</td>\n",
       "      <td>1</td>\n",
       "      <td>0</td>\n",
       "      <td>W.E.P. 5734</td>\n",
       "      <td>61.175</td>\n",
       "      <td>E31</td>\n",
       "      <td>S</td>\n",
       "      <td>0</td>\n",
       "      <td>adult</td>\n",
       "    </tr>\n",
       "    <tr>\n",
       "      <th>219</th>\n",
       "      <td>220</td>\n",
       "      <td>0</td>\n",
       "      <td>2</td>\n",
       "      <td>Harris, Mr. Walter</td>\n",
       "      <td>male</td>\n",
       "      <td>30.0</td>\n",
       "      <td>0</td>\n",
       "      <td>0</td>\n",
       "      <td>W/C 14208</td>\n",
       "      <td>10.500</td>\n",
       "      <td>NaN</td>\n",
       "      <td>S</td>\n",
       "      <td>0</td>\n",
       "      <td>adult</td>\n",
       "    </tr>\n",
       "    <tr>\n",
       "      <th>540</th>\n",
       "      <td>541</td>\n",
       "      <td>1</td>\n",
       "      <td>1</td>\n",
       "      <td>Crosby, Miss. Harriet R</td>\n",
       "      <td>female</td>\n",
       "      <td>36.0</td>\n",
       "      <td>0</td>\n",
       "      <td>2</td>\n",
       "      <td>WE/P 5735</td>\n",
       "      <td>71.000</td>\n",
       "      <td>B22</td>\n",
       "      <td>S</td>\n",
       "      <td>0</td>\n",
       "      <td>adult</td>\n",
       "    </tr>\n",
       "    <tr>\n",
       "      <th>745</th>\n",
       "      <td>746</td>\n",
       "      <td>0</td>\n",
       "      <td>1</td>\n",
       "      <td>Crosby, Capt. Edward Gifford</td>\n",
       "      <td>male</td>\n",
       "      <td>70.0</td>\n",
       "      <td>1</td>\n",
       "      <td>1</td>\n",
       "      <td>WE/P 5735</td>\n",
       "      <td>71.000</td>\n",
       "      <td>B22</td>\n",
       "      <td>S</td>\n",
       "      <td>0</td>\n",
       "      <td>elderly</td>\n",
       "    </tr>\n",
       "  </tbody>\n",
       "</table>\n",
       "<p>891 rows × 14 columns</p>\n",
       "</div>"
      ],
      "text/plain": [
       "     PassengerId  Survived  Pclass  \\\n",
       "504          505         1       1   \n",
       "257          258         1       1   \n",
       "759          760         1       1   \n",
       "262          263         0       1   \n",
       "558          559         1       1   \n",
       "..           ...       ...     ...   \n",
       "235          236         0       3   \n",
       "92            93         0       1   \n",
       "219          220         0       2   \n",
       "540          541         1       1   \n",
       "745          746         0       1   \n",
       "\n",
       "                                                  Name     Sex   Age  SibSp  \\\n",
       "504                              Maioni, Miss. Roberta  female  16.0      0   \n",
       "257                               Cherry, Miss. Gladys  female  30.0      0   \n",
       "759  Rothes, the Countess. of (Lucy Noel Martha Dye...  female  33.0      0   \n",
       "262                                  Taussig, Mr. Emil    male  52.0      1   \n",
       "558             Taussig, Mrs. Emil (Tillie Mandelbaum)  female  39.0      1   \n",
       "..                                                 ...     ...   ...    ...   \n",
       "235                       Harknett, Miss. Alice Phoebe  female   NaN      0   \n",
       "92                         Chaffee, Mr. Herbert Fuller    male  46.0      1   \n",
       "219                                 Harris, Mr. Walter    male  30.0      0   \n",
       "540                            Crosby, Miss. Harriet R  female  36.0      0   \n",
       "745                       Crosby, Capt. Edward Gifford    male  70.0      1   \n",
       "\n",
       "     Parch       Ticket    Fare Cabin Embarked  Child  Age_cat  \n",
       "504      0       110152  86.500   B79        S      0    adult  \n",
       "257      0       110152  86.500   B77        S      0    adult  \n",
       "759      0       110152  86.500   B77        S      0    adult  \n",
       "262      1       110413  79.650   E67        S      0    adult  \n",
       "558      1       110413  79.650   E67        S      0    adult  \n",
       "..     ...          ...     ...   ...      ...    ...      ...  \n",
       "235      0   W./C. 6609   7.550   NaN        S      0      NaN  \n",
       "92       0  W.E.P. 5734  61.175   E31        S      0    adult  \n",
       "219      0    W/C 14208  10.500   NaN        S      0    adult  \n",
       "540      2    WE/P 5735  71.000   B22        S      0    adult  \n",
       "745      1    WE/P 5735  71.000   B22        S      0  elderly  \n",
       "\n",
       "[891 rows x 14 columns]"
      ]
     },
     "execution_count": 16,
     "metadata": {},
     "output_type": "execute_result"
    }
   ],
   "source": [
    "train.sort_values('Ticket')"
   ]
  },
  {
   "cell_type": "code",
   "execution_count": 17,
   "id": "recorded-onion",
   "metadata": {},
   "outputs": [
    {
     "data": {
      "text/plain": [
       "male      577\n",
       "female    314\n",
       "Name: Sex, dtype: int64"
      ]
     },
     "execution_count": 17,
     "metadata": {},
     "output_type": "execute_result"
    }
   ],
   "source": [
    "train['Sex'].value_counts()"
   ]
  },
  {
   "cell_type": "code",
   "execution_count": 18,
   "id": "emotional-somerset",
   "metadata": {},
   "outputs": [],
   "source": [
    "train['Sex_male']=(train['Sex']=='male').replace({True: 1, False: 0})"
   ]
  },
  {
   "cell_type": "code",
   "execution_count": 19,
   "id": "unnecessary-democrat",
   "metadata": {
    "scrolled": true
   },
   "outputs": [
    {
     "data": {
      "text/html": [
       "<div>\n",
       "<style scoped>\n",
       "    .dataframe tbody tr th:only-of-type {\n",
       "        vertical-align: middle;\n",
       "    }\n",
       "\n",
       "    .dataframe tbody tr th {\n",
       "        vertical-align: top;\n",
       "    }\n",
       "\n",
       "    .dataframe thead th {\n",
       "        text-align: right;\n",
       "    }\n",
       "</style>\n",
       "<table border=\"1\" class=\"dataframe\">\n",
       "  <thead>\n",
       "    <tr style=\"text-align: right;\">\n",
       "      <th></th>\n",
       "      <th>Survived</th>\n",
       "    </tr>\n",
       "    <tr>\n",
       "      <th>Sex_male</th>\n",
       "      <th></th>\n",
       "    </tr>\n",
       "  </thead>\n",
       "  <tbody>\n",
       "    <tr>\n",
       "      <th>0</th>\n",
       "      <td>0.742038</td>\n",
       "    </tr>\n",
       "    <tr>\n",
       "      <th>1</th>\n",
       "      <td>0.188908</td>\n",
       "    </tr>\n",
       "  </tbody>\n",
       "</table>\n",
       "</div>"
      ],
      "text/plain": [
       "          Survived\n",
       "Sex_male          \n",
       "0         0.742038\n",
       "1         0.188908"
      ]
     },
     "execution_count": 19,
     "metadata": {},
     "output_type": "execute_result"
    }
   ],
   "source": [
    "train[['Sex_male','Survived']].groupby('Sex_male').mean()"
   ]
  },
  {
   "cell_type": "markdown",
   "id": "super-reset",
   "metadata": {},
   "source": [
    "74% of women survived! Sex is definitely an important catergory"
   ]
  },
  {
   "cell_type": "markdown",
   "id": "decent-musician",
   "metadata": {},
   "source": [
    "Try combining Parch and SibSp to see if it improves correlation"
   ]
  },
  {
   "cell_type": "code",
   "execution_count": 20,
   "id": "auburn-explorer",
   "metadata": {},
   "outputs": [],
   "source": [
    "train['rel']=train['Parch']+train['SibSp']"
   ]
  },
  {
   "cell_type": "code",
   "execution_count": 21,
   "id": "further-first",
   "metadata": {
    "scrolled": false
   },
   "outputs": [
    {
     "data": {
      "text/plain": [
       "PassengerId   -0.005007\n",
       "Survived       1.000000\n",
       "Pclass        -0.338481\n",
       "Age           -0.077221\n",
       "SibSp         -0.035322\n",
       "Parch          0.081629\n",
       "Fare           0.257307\n",
       "Child          0.129244\n",
       "Sex_male      -0.543351\n",
       "rel            0.016639\n",
       "Name: Survived, dtype: float64"
      ]
     },
     "execution_count": 21,
     "metadata": {},
     "output_type": "execute_result"
    }
   ],
   "source": [
    "train.corr()['Survived']"
   ]
  },
  {
   "cell_type": "markdown",
   "id": "aerial-cause",
   "metadata": {},
   "source": [
    "'rel' is less correlated with Survival than 'Parch'"
   ]
  },
  {
   "cell_type": "markdown",
   "id": "institutional-deployment",
   "metadata": {},
   "source": [
    "Exploring Cabin"
   ]
  },
  {
   "cell_type": "code",
   "execution_count": 22,
   "id": "refined-roller",
   "metadata": {},
   "outputs": [
    {
     "data": {
      "text/plain": [
       "16"
      ]
     },
     "execution_count": 22,
     "metadata": {},
     "output_type": "execute_result"
    }
   ],
   "source": [
    "train[train['Pclass']==2]['Cabin'].count()"
   ]
  },
  {
   "cell_type": "code",
   "execution_count": 23,
   "id": "isolated-underwear",
   "metadata": {},
   "outputs": [],
   "source": [
    "train['No_cabin']=(train['Cabin'].isna()).replace({True: 1, False: 0})"
   ]
  },
  {
   "cell_type": "code",
   "execution_count": 24,
   "id": "attractive-strength",
   "metadata": {
    "scrolled": true
   },
   "outputs": [
    {
     "data": {
      "text/plain": [
       "1    687\n",
       "0    204\n",
       "Name: No_cabin, dtype: int64"
      ]
     },
     "execution_count": 24,
     "metadata": {},
     "output_type": "execute_result"
    }
   ],
   "source": [
    "train['No_cabin'].value_counts()"
   ]
  },
  {
   "cell_type": "code",
   "execution_count": 25,
   "id": "oriental-accounting",
   "metadata": {},
   "outputs": [
    {
     "data": {
      "text/plain": [
       "PassengerId   -0.005007\n",
       "Survived       1.000000\n",
       "Pclass        -0.338481\n",
       "Age           -0.077221\n",
       "SibSp         -0.035322\n",
       "Parch          0.081629\n",
       "Fare           0.257307\n",
       "Child          0.129244\n",
       "Sex_male      -0.543351\n",
       "rel            0.016639\n",
       "No_cabin      -0.316912\n",
       "Name: Survived, dtype: float64"
      ]
     },
     "execution_count": 25,
     "metadata": {},
     "output_type": "execute_result"
    }
   ],
   "source": [
    "train.corr()['Survived']"
   ]
  },
  {
   "cell_type": "markdown",
   "id": "emotional-session",
   "metadata": {},
   "source": [
    "### Pipeplines for Data Cleaning and Predictions"
   ]
  },
  {
   "cell_type": "markdown",
   "id": "optical-unemployment",
   "metadata": {},
   "source": [
    "We will make the following pipelines:\n",
    "* Preprocessing\n",
    "* * Numerical cols:\n",
    "* * * Impute (fix NA) - use medians\n",
    "* * Categorical cols:\n",
    "* * * One Hot Encoding"
   ]
  },
  {
   "cell_type": "code",
   "execution_count": 26,
   "id": "undefined-barbados",
   "metadata": {},
   "outputs": [],
   "source": [
    "train=pd.read_csv(os.path.join(DATA_PATH,'train.csv'))"
   ]
  },
  {
   "cell_type": "code",
   "execution_count": 27,
   "id": "retired-birmingham",
   "metadata": {},
   "outputs": [],
   "source": [
    "train['No_cabin']=(train['Cabin'].isna()).replace({True: 1, False: 0})\n",
    "test['No_cabin']=(test['Cabin'].isna()).replace({True: 1, False: 0})"
   ]
  },
  {
   "cell_type": "code",
   "execution_count": 28,
   "id": "neural-committee",
   "metadata": {},
   "outputs": [],
   "source": [
    "train['Child']=((train['Age']<10) | (train['Age'].isna() & train['Name'].str.contains('Master') )).replace({True: 1, False: 0})\n",
    "test['Child']=((test['Age']<10) | (test['Age'].isna() & test['Name'].str.contains('Master') )).replace({True: 1, False: 0})"
   ]
  },
  {
   "cell_type": "code",
   "execution_count": 29,
   "id": "swiss-paraguay",
   "metadata": {
    "scrolled": true
   },
   "outputs": [
    {
     "data": {
      "text/plain": [
       "Index(['PassengerId', 'Survived', 'Pclass', 'Name', 'Sex', 'Age', 'SibSp',\n",
       "       'Parch', 'Ticket', 'Fare', 'Cabin', 'Embarked', 'No_cabin', 'Child'],\n",
       "      dtype='object')"
      ]
     },
     "execution_count": 29,
     "metadata": {},
     "output_type": "execute_result"
    }
   ],
   "source": [
    "train.columns"
   ]
  },
  {
   "cell_type": "code",
   "execution_count": 30,
   "id": "identical-asian",
   "metadata": {},
   "outputs": [],
   "source": [
    "X_train=train[['Pclass','Age','SibSp','Parch','Fare','No_cabin','Child','Sex','Embarked']]\n",
    "y_train=train['Survived']"
   ]
  },
  {
   "cell_type": "code",
   "execution_count": 31,
   "id": "professional-knife",
   "metadata": {},
   "outputs": [],
   "source": [
    "all_cols=X_train.columns"
   ]
  },
  {
   "cell_type": "code",
   "execution_count": 32,
   "id": "dramatic-peace",
   "metadata": {},
   "outputs": [],
   "source": [
    "num_cols=['Pclass','Age','SibSp','Parch','Fare','No_cabin','Child']"
   ]
  },
  {
   "cell_type": "code",
   "execution_count": 33,
   "id": "exact-westminster",
   "metadata": {},
   "outputs": [],
   "source": [
    "cat_cols=['Sex','Embarked']"
   ]
  },
  {
   "cell_type": "code",
   "execution_count": 34,
   "id": "straight-congo",
   "metadata": {},
   "outputs": [],
   "source": [
    "from sklearn.pipeline import Pipeline"
   ]
  },
  {
   "cell_type": "code",
   "execution_count": 35,
   "id": "communist-summer",
   "metadata": {},
   "outputs": [],
   "source": [
    "from sklearn.impute import SimpleImputer"
   ]
  },
  {
   "cell_type": "code",
   "execution_count": 36,
   "id": "mysterious-opposition",
   "metadata": {},
   "outputs": [],
   "source": [
    "from sklearn.preprocessing import StandardScaler"
   ]
  },
  {
   "cell_type": "code",
   "execution_count": 37,
   "id": "national-commodity",
   "metadata": {},
   "outputs": [],
   "source": [
    "from sklearn.preprocessing import OneHotEncoder"
   ]
  },
  {
   "cell_type": "code",
   "execution_count": 38,
   "id": "bibliographic-instrumentation",
   "metadata": {},
   "outputs": [],
   "source": [
    "num_pipe = Pipeline([\n",
    "        (\"imputer\", SimpleImputer(strategy=\"median\")),\n",
    "        (\"std_scaler\",StandardScaler())\n",
    "    ])"
   ]
  },
  {
   "cell_type": "code",
   "execution_count": 39,
   "id": "interstate-reset",
   "metadata": {},
   "outputs": [],
   "source": [
    "cat_pipe= Pipeline([\n",
    "    (\"imputer\",SimpleImputer(strategy='most_frequent')),\n",
    "    (\"OH_encode\",OneHotEncoder())\n",
    "])"
   ]
  },
  {
   "cell_type": "code",
   "execution_count": 40,
   "id": "visible-ranch",
   "metadata": {},
   "outputs": [],
   "source": [
    "from sklearn.compose import ColumnTransformer"
   ]
  },
  {
   "cell_type": "code",
   "execution_count": 41,
   "id": "impressive-vaccine",
   "metadata": {},
   "outputs": [],
   "source": [
    "# AttributesAdder\n",
    "preprocess_pipeline=ColumnTransformer([\n",
    "    ('num',num_pipe,num_cols),\n",
    "    ('nonnum',cat_pipe,cat_cols)\n",
    "],remainder='drop')\n"
   ]
  },
  {
   "cell_type": "code",
   "execution_count": 42,
   "id": "proved-investing",
   "metadata": {
    "scrolled": true
   },
   "outputs": [
    {
     "data": {
      "text/html": [
       "<div>\n",
       "<style scoped>\n",
       "    .dataframe tbody tr th:only-of-type {\n",
       "        vertical-align: middle;\n",
       "    }\n",
       "\n",
       "    .dataframe tbody tr th {\n",
       "        vertical-align: top;\n",
       "    }\n",
       "\n",
       "    .dataframe thead th {\n",
       "        text-align: right;\n",
       "    }\n",
       "</style>\n",
       "<table border=\"1\" class=\"dataframe\">\n",
       "  <thead>\n",
       "    <tr style=\"text-align: right;\">\n",
       "      <th></th>\n",
       "      <th>Pclass</th>\n",
       "      <th>Age</th>\n",
       "      <th>SibSp</th>\n",
       "      <th>Parch</th>\n",
       "      <th>Fare</th>\n",
       "      <th>No_cabin</th>\n",
       "      <th>Child</th>\n",
       "      <th>Sex</th>\n",
       "      <th>Embarked</th>\n",
       "    </tr>\n",
       "  </thead>\n",
       "  <tbody>\n",
       "    <tr>\n",
       "      <th>0</th>\n",
       "      <td>3</td>\n",
       "      <td>22.0</td>\n",
       "      <td>1</td>\n",
       "      <td>0</td>\n",
       "      <td>7.2500</td>\n",
       "      <td>1</td>\n",
       "      <td>0</td>\n",
       "      <td>male</td>\n",
       "      <td>S</td>\n",
       "    </tr>\n",
       "    <tr>\n",
       "      <th>1</th>\n",
       "      <td>1</td>\n",
       "      <td>38.0</td>\n",
       "      <td>1</td>\n",
       "      <td>0</td>\n",
       "      <td>71.2833</td>\n",
       "      <td>0</td>\n",
       "      <td>0</td>\n",
       "      <td>female</td>\n",
       "      <td>C</td>\n",
       "    </tr>\n",
       "    <tr>\n",
       "      <th>2</th>\n",
       "      <td>3</td>\n",
       "      <td>26.0</td>\n",
       "      <td>0</td>\n",
       "      <td>0</td>\n",
       "      <td>7.9250</td>\n",
       "      <td>1</td>\n",
       "      <td>0</td>\n",
       "      <td>female</td>\n",
       "      <td>S</td>\n",
       "    </tr>\n",
       "    <tr>\n",
       "      <th>3</th>\n",
       "      <td>1</td>\n",
       "      <td>35.0</td>\n",
       "      <td>1</td>\n",
       "      <td>0</td>\n",
       "      <td>53.1000</td>\n",
       "      <td>0</td>\n",
       "      <td>0</td>\n",
       "      <td>female</td>\n",
       "      <td>S</td>\n",
       "    </tr>\n",
       "    <tr>\n",
       "      <th>4</th>\n",
       "      <td>3</td>\n",
       "      <td>35.0</td>\n",
       "      <td>0</td>\n",
       "      <td>0</td>\n",
       "      <td>8.0500</td>\n",
       "      <td>1</td>\n",
       "      <td>0</td>\n",
       "      <td>male</td>\n",
       "      <td>S</td>\n",
       "    </tr>\n",
       "  </tbody>\n",
       "</table>\n",
       "</div>"
      ],
      "text/plain": [
       "   Pclass   Age  SibSp  Parch     Fare  No_cabin  Child     Sex Embarked\n",
       "0       3  22.0      1      0   7.2500         1      0    male        S\n",
       "1       1  38.0      1      0  71.2833         0      0  female        C\n",
       "2       3  26.0      0      0   7.9250         1      0  female        S\n",
       "3       1  35.0      1      0  53.1000         0      0  female        S\n",
       "4       3  35.0      0      0   8.0500         1      0    male        S"
      ]
     },
     "execution_count": 42,
     "metadata": {},
     "output_type": "execute_result"
    }
   ],
   "source": [
    "X_train.head()"
   ]
  },
  {
   "cell_type": "code",
   "execution_count": 43,
   "id": "sticky-blank",
   "metadata": {
    "scrolled": true
   },
   "outputs": [
    {
     "data": {
      "text/plain": [
       "0    0\n",
       "1    1\n",
       "2    1\n",
       "3    1\n",
       "4    0\n",
       "Name: Survived, dtype: int64"
      ]
     },
     "execution_count": 43,
     "metadata": {},
     "output_type": "execute_result"
    }
   ],
   "source": [
    "y_train.head()"
   ]
  },
  {
   "cell_type": "code",
   "execution_count": 44,
   "id": "regional-alabama",
   "metadata": {},
   "outputs": [],
   "source": [
    "X_train_prep=preprocess_pipeline.fit_transform(X_train)"
   ]
  },
  {
   "cell_type": "code",
   "execution_count": 45,
   "id": "pressed-occupation",
   "metadata": {},
   "outputs": [],
   "source": [
    "from sklearn.ensemble import RandomForestClassifier"
   ]
  },
  {
   "cell_type": "code",
   "execution_count": 46,
   "id": "proved-morgan",
   "metadata": {},
   "outputs": [],
   "source": [
    "rf_clf=RandomForestClassifier(n_estimators=100, random_state=42)"
   ]
  },
  {
   "cell_type": "code",
   "execution_count": 47,
   "id": "external-landing",
   "metadata": {},
   "outputs": [
    {
     "data": {
      "text/plain": [
       "RandomForestClassifier(random_state=42)"
      ]
     },
     "execution_count": 47,
     "metadata": {},
     "output_type": "execute_result"
    }
   ],
   "source": [
    "rf_clf.fit(X_train_prep,y_train)"
   ]
  },
  {
   "cell_type": "code",
   "execution_count": 48,
   "id": "sustainable-vietnam",
   "metadata": {},
   "outputs": [],
   "source": [
    "from xgboost import XGBClassifier"
   ]
  },
  {
   "cell_type": "code",
   "execution_count": 49,
   "id": "novel-address",
   "metadata": {},
   "outputs": [],
   "source": [
    "xgb_clf=XGBClassifier()"
   ]
  },
  {
   "cell_type": "code",
   "execution_count": 50,
   "id": "preliminary-possibility",
   "metadata": {},
   "outputs": [
    {
     "data": {
      "text/plain": [
       "XGBClassifier()"
      ]
     },
     "execution_count": 50,
     "metadata": {},
     "output_type": "execute_result"
    }
   ],
   "source": [
    "xgb_clf.fit(X_train_prep,y_train)"
   ]
  },
  {
   "cell_type": "code",
   "execution_count": 51,
   "id": "suburban-classroom",
   "metadata": {},
   "outputs": [],
   "source": [
    "y_train_pred_rf=rf_clf.predict(X_train_prep)"
   ]
  },
  {
   "cell_type": "code",
   "execution_count": 52,
   "id": "buried-turkey",
   "metadata": {},
   "outputs": [],
   "source": [
    "y_train_pred_xgb=xgb_clf.predict(X_train_prep)"
   ]
  },
  {
   "cell_type": "code",
   "execution_count": 53,
   "id": "vulnerable-prairie",
   "metadata": {},
   "outputs": [],
   "source": [
    "from sklearn.model_selection import cross_val_score"
   ]
  },
  {
   "cell_type": "code",
   "execution_count": 54,
   "id": "oriented-selling",
   "metadata": {},
   "outputs": [],
   "source": [
    "rf_score=cross_val_score(rf_clf,X_train_prep,y_train,cv=10)"
   ]
  },
  {
   "cell_type": "code",
   "execution_count": 55,
   "id": "registered-parish",
   "metadata": {},
   "outputs": [
    {
     "data": {
      "text/plain": [
       "(0.8103995006242197,\n",
       " array([0.74444444, 0.84269663, 0.76404494, 0.80898876, 0.85393258,\n",
       "        0.83146067, 0.79775281, 0.75280899, 0.85393258, 0.85393258]))"
      ]
     },
     "execution_count": 55,
     "metadata": {},
     "output_type": "execute_result"
    }
   ],
   "source": [
    "rf_score.mean(), rf_score"
   ]
  },
  {
   "cell_type": "code",
   "execution_count": 56,
   "id": "right-header",
   "metadata": {},
   "outputs": [],
   "source": [
    "xgb_score=cross_val_score(xgb_clf,X_train_prep,y_train,cv=10)"
   ]
  },
  {
   "cell_type": "code",
   "execution_count": 57,
   "id": "suspended-facing",
   "metadata": {
    "scrolled": true
   },
   "outputs": [
    {
     "data": {
      "text/plain": [
       "(0.8283146067415729,\n",
       " array([0.8       , 0.79775281, 0.7752809 , 0.86516854, 0.88764045,\n",
       "        0.83146067, 0.83146067, 0.78651685, 0.86516854, 0.84269663]))"
      ]
     },
     "execution_count": 57,
     "metadata": {},
     "output_type": "execute_result"
    }
   ],
   "source": [
    "xgb_score.mean(), xgb_score"
   ]
  },
  {
   "cell_type": "code",
   "execution_count": 58,
   "id": "choice-judges",
   "metadata": {},
   "outputs": [],
   "source": [
    "test_prep=preprocess_pipeline.fit_transform(test)"
   ]
  },
  {
   "cell_type": "code",
   "execution_count": 59,
   "id": "modified-portsmouth",
   "metadata": {},
   "outputs": [],
   "source": [
    "y_test_pred=xgb_clf.predict(test_prep)\n",
    "#y_test_pred=rf_clf.predict(test_prep)"
   ]
  },
  {
   "cell_type": "code",
   "execution_count": 60,
   "id": "purple-blank",
   "metadata": {},
   "outputs": [],
   "source": [
    "submission=pd.DataFrame(test['PassengerId'],columns=['PassengerId'])"
   ]
  },
  {
   "cell_type": "code",
   "execution_count": 61,
   "id": "aggregate-rings",
   "metadata": {},
   "outputs": [],
   "source": [
    "submission['Survived']=y_test_pred"
   ]
  },
  {
   "cell_type": "code",
   "execution_count": 62,
   "id": "proprietary-flesh",
   "metadata": {
    "scrolled": true
   },
   "outputs": [
    {
     "data": {
      "text/html": [
       "<div>\n",
       "<style scoped>\n",
       "    .dataframe tbody tr th:only-of-type {\n",
       "        vertical-align: middle;\n",
       "    }\n",
       "\n",
       "    .dataframe tbody tr th {\n",
       "        vertical-align: top;\n",
       "    }\n",
       "\n",
       "    .dataframe thead th {\n",
       "        text-align: right;\n",
       "    }\n",
       "</style>\n",
       "<table border=\"1\" class=\"dataframe\">\n",
       "  <thead>\n",
       "    <tr style=\"text-align: right;\">\n",
       "      <th></th>\n",
       "      <th>PassengerId</th>\n",
       "      <th>Survived</th>\n",
       "    </tr>\n",
       "  </thead>\n",
       "  <tbody>\n",
       "    <tr>\n",
       "      <th>0</th>\n",
       "      <td>892</td>\n",
       "      <td>0</td>\n",
       "    </tr>\n",
       "    <tr>\n",
       "      <th>1</th>\n",
       "      <td>893</td>\n",
       "      <td>0</td>\n",
       "    </tr>\n",
       "    <tr>\n",
       "      <th>2</th>\n",
       "      <td>894</td>\n",
       "      <td>0</td>\n",
       "    </tr>\n",
       "    <tr>\n",
       "      <th>3</th>\n",
       "      <td>895</td>\n",
       "      <td>0</td>\n",
       "    </tr>\n",
       "    <tr>\n",
       "      <th>4</th>\n",
       "      <td>896</td>\n",
       "      <td>0</td>\n",
       "    </tr>\n",
       "    <tr>\n",
       "      <th>...</th>\n",
       "      <td>...</td>\n",
       "      <td>...</td>\n",
       "    </tr>\n",
       "    <tr>\n",
       "      <th>413</th>\n",
       "      <td>1305</td>\n",
       "      <td>0</td>\n",
       "    </tr>\n",
       "    <tr>\n",
       "      <th>414</th>\n",
       "      <td>1306</td>\n",
       "      <td>1</td>\n",
       "    </tr>\n",
       "    <tr>\n",
       "      <th>415</th>\n",
       "      <td>1307</td>\n",
       "      <td>0</td>\n",
       "    </tr>\n",
       "    <tr>\n",
       "      <th>416</th>\n",
       "      <td>1308</td>\n",
       "      <td>0</td>\n",
       "    </tr>\n",
       "    <tr>\n",
       "      <th>417</th>\n",
       "      <td>1309</td>\n",
       "      <td>1</td>\n",
       "    </tr>\n",
       "  </tbody>\n",
       "</table>\n",
       "<p>418 rows × 2 columns</p>\n",
       "</div>"
      ],
      "text/plain": [
       "     PassengerId  Survived\n",
       "0            892         0\n",
       "1            893         0\n",
       "2            894         0\n",
       "3            895         0\n",
       "4            896         0\n",
       "..           ...       ...\n",
       "413         1305         0\n",
       "414         1306         1\n",
       "415         1307         0\n",
       "416         1308         0\n",
       "417         1309         1\n",
       "\n",
       "[418 rows x 2 columns]"
      ]
     },
     "execution_count": 62,
     "metadata": {},
     "output_type": "execute_result"
    }
   ],
   "source": [
    "submission"
   ]
  },
  {
   "cell_type": "code",
   "execution_count": 63,
   "id": "secret-rainbow",
   "metadata": {},
   "outputs": [],
   "source": [
    "submission.to_csv('D:/titanic/to_submit.csv',sep=',',index=False)"
   ]
  }
 ],
 "metadata": {
  "kernelspec": {
   "display_name": "Python 3",
   "language": "python",
   "name": "python3"
  },
  "language_info": {
   "codemirror_mode": {
    "name": "ipython",
    "version": 3
   },
   "file_extension": ".py",
   "mimetype": "text/x-python",
   "name": "python",
   "nbconvert_exporter": "python",
   "pygments_lexer": "ipython3",
   "version": "3.7.4"
  }
 },
 "nbformat": 4,
 "nbformat_minor": 5
}
